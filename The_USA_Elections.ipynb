{
  "nbformat": 4,
  "nbformat_minor": 0,
  "metadata": {
    "colab": {
      "name": "The USA Elections.ipynb",
      "version": "0.3.2",
      "provenance": [],
      "collapsed_sections": [],
      "toc_visible": true
    },
    "kernelspec": {
      "name": "python3",
      "display_name": "Python 3"
    },
    "accelerator": "TPU"
  },
  "cells": [
    {
      "metadata": {
        "id": "yaR9gCSE7f1A",
        "colab_type": "text"
      },
      "cell_type": "markdown",
      "source": [
        "# Polls and Donors\n",
        "\n",
        "## Poll Data Set"
      ]
    },
    {
      "metadata": {
        "id": "8W7KoKNCJ0ZF",
        "colab_type": "text"
      },
      "cell_type": "markdown",
      "source": [
        "In this Data Project, we will be looking at data from the 2012 USA election.\n",
        "\n",
        "In this project we will analyze two datasets. The first data set will be the results of political polls. We will analyze this aggregated poll data and answer some questions:\n",
        "\n",
        "  1. Who was being polled and what was their party affiliation?\n",
        "  2. Did the poll results favor Romney or Obama?\n",
        "  3. How do undecided voters effect the poll?\n",
        "  4. Can we account for the undecided voters?\n",
        "  5. How did voter sentiment change over time?\n",
        "  6. Can we see an effect in the polls from the debates?\n",
        "  \n",
        "The data for the polls will be obtained from HuffPost Pollster. You can check their website [here](http://elections.huffingtonpost.com/pollster)."
      ]
    },
    {
      "metadata": {
        "id": "XPjrz0HA7Do0",
        "colab_type": "code",
        "colab": {}
      },
      "cell_type": "code",
      "source": [
        "# data manipulation libraries\n",
        "import pandas as pd\n",
        "from pandas import Series, DataFrame\n",
        "import numpy as np\n",
        "\n",
        "# visualization libraries\n",
        "import matplotlib.pyplot as plt\n",
        "import seaborn as sns\n",
        "\n",
        "# for timestamps\n",
        "from datetime import datetime\n",
        "\n",
        "# for gathering data from the web\n",
        "import requests\n",
        "\n",
        "# to work with the csv file\n",
        "from io import StringIO\n",
        "\n",
        "sns.set_style('whitegrid')"
      ],
      "execution_count": 0,
      "outputs": []
    },
    {
      "metadata": {
        "id": "kqkOfVICK2tE",
        "colab_type": "text"
      },
      "cell_type": "markdown",
      "source": [
        "### Import Data"
      ]
    },
    {
      "metadata": {
        "id": "31AtCkPT9Hzr",
        "colab_type": "code",
        "colab": {}
      },
      "cell_type": "code",
      "source": [
        "# url link for the poll data in csv form\n",
        "url = \"http://elections.huffingtonpost.com/pollster/2012-general-election-romney-vs-obama.csv\"\n",
        "\n",
        "# use requests to get the information in text form (from CSV to text)\n",
        "source = requests.get(url).text\n",
        "\n",
        "# use StringIO to avoid an IO error with pandas\n",
        "poll_data = StringIO(source)\n",
        "\n",
        "# set poll data as pandas DataFrame\n",
        "poll_df = pd.read_csv(poll_data)"
      ],
      "execution_count": 0,
      "outputs": []
    },
    {
      "metadata": {
        "id": "34QO2K9-rdGp",
        "colab_type": "text"
      },
      "cell_type": "markdown",
      "source": [
        "### Analyze Data"
      ]
    },
    {
      "metadata": {
        "id": "CfuzOMkcrcMN",
        "colab_type": "code",
        "outputId": "7f5f3f47-58de-4987-d080-0fd014a0ed09",
        "colab": {
          "base_uri": "https://localhost:8080/",
          "height": 391
        }
      },
      "cell_type": "code",
      "source": [
        "# data information\n",
        "poll_df.info()"
      ],
      "execution_count": 3,
      "outputs": [
        {
          "output_type": "stream",
          "text": [
            "<class 'pandas.core.frame.DataFrame'>\n",
            "RangeIndex: 586 entries, 0 to 585\n",
            "Data columns (total 17 columns):\n",
            "Pollster                  586 non-null object\n",
            "Start Date                586 non-null object\n",
            "End Date                  586 non-null object\n",
            "Entry Date/Time (ET)      586 non-null object\n",
            "Number of Observations    564 non-null float64\n",
            "Population                586 non-null object\n",
            "Mode                      586 non-null object\n",
            "Obama                     586 non-null float64\n",
            "Romney                    586 non-null float64\n",
            "Undecided                 423 non-null float64\n",
            "Other                     202 non-null float64\n",
            "Pollster URL              586 non-null object\n",
            "Source URL                584 non-null object\n",
            "Partisan                  586 non-null object\n",
            "Affiliation               586 non-null object\n",
            "Question Text             0 non-null float64\n",
            "Question Iteration        586 non-null int64\n",
            "dtypes: float64(6), int64(1), object(10)\n",
            "memory usage: 77.9+ KB\n"
          ],
          "name": "stdout"
        }
      ]
    },
    {
      "metadata": {
        "id": "Z3zyvP8o7Q3A",
        "colab_type": "code",
        "outputId": "3cd5cef5-64c6-40aa-96ca-e4b353d02fff",
        "colab": {
          "base_uri": "https://localhost:8080/",
          "height": 583
        }
      },
      "cell_type": "code",
      "source": [
        "# top 10 rows\n",
        "poll_df.head(10)"
      ],
      "execution_count": 4,
      "outputs": [
        {
          "output_type": "execute_result",
          "data": {
            "text/html": [
              "<div>\n",
              "<style scoped>\n",
              "    .dataframe tbody tr th:only-of-type {\n",
              "        vertical-align: middle;\n",
              "    }\n",
              "\n",
              "    .dataframe tbody tr th {\n",
              "        vertical-align: top;\n",
              "    }\n",
              "\n",
              "    .dataframe thead th {\n",
              "        text-align: right;\n",
              "    }\n",
              "</style>\n",
              "<table border=\"1\" class=\"dataframe\">\n",
              "  <thead>\n",
              "    <tr style=\"text-align: right;\">\n",
              "      <th></th>\n",
              "      <th>Pollster</th>\n",
              "      <th>Start Date</th>\n",
              "      <th>End Date</th>\n",
              "      <th>Entry Date/Time (ET)</th>\n",
              "      <th>Number of Observations</th>\n",
              "      <th>Population</th>\n",
              "      <th>Mode</th>\n",
              "      <th>Obama</th>\n",
              "      <th>Romney</th>\n",
              "      <th>Undecided</th>\n",
              "      <th>Other</th>\n",
              "      <th>Pollster URL</th>\n",
              "      <th>Source URL</th>\n",
              "      <th>Partisan</th>\n",
              "      <th>Affiliation</th>\n",
              "      <th>Question Text</th>\n",
              "      <th>Question Iteration</th>\n",
              "    </tr>\n",
              "  </thead>\n",
              "  <tbody>\n",
              "    <tr>\n",
              "      <th>0</th>\n",
              "      <td>Politico/GWU/Battleground</td>\n",
              "      <td>2012-11-04</td>\n",
              "      <td>2012-11-05</td>\n",
              "      <td>2012-11-06T08:40:26Z</td>\n",
              "      <td>1000.0</td>\n",
              "      <td>Likely Voters</td>\n",
              "      <td>Live Phone</td>\n",
              "      <td>47.0</td>\n",
              "      <td>47.0</td>\n",
              "      <td>6.0</td>\n",
              "      <td>NaN</td>\n",
              "      <td>http://elections.huffingtonpost.com/pollster/p...</td>\n",
              "      <td>http://www.politico.com/news/stories/1112/8338...</td>\n",
              "      <td>Nonpartisan</td>\n",
              "      <td>None</td>\n",
              "      <td>NaN</td>\n",
              "      <td>1</td>\n",
              "    </tr>\n",
              "    <tr>\n",
              "      <th>1</th>\n",
              "      <td>YouGov/Economist</td>\n",
              "      <td>2012-11-03</td>\n",
              "      <td>2012-11-05</td>\n",
              "      <td>2012-11-26T15:31:23Z</td>\n",
              "      <td>740.0</td>\n",
              "      <td>Likely Voters</td>\n",
              "      <td>Internet</td>\n",
              "      <td>49.0</td>\n",
              "      <td>47.0</td>\n",
              "      <td>3.0</td>\n",
              "      <td>NaN</td>\n",
              "      <td>http://elections.huffingtonpost.com/pollster/p...</td>\n",
              "      <td>http://cdn.yougov.com/cumulus_uploads/document...</td>\n",
              "      <td>Nonpartisan</td>\n",
              "      <td>None</td>\n",
              "      <td>NaN</td>\n",
              "      <td>1</td>\n",
              "    </tr>\n",
              "    <tr>\n",
              "      <th>2</th>\n",
              "      <td>Gravis Marketing</td>\n",
              "      <td>2012-11-03</td>\n",
              "      <td>2012-11-05</td>\n",
              "      <td>2012-11-06T09:22:02Z</td>\n",
              "      <td>872.0</td>\n",
              "      <td>Likely Voters</td>\n",
              "      <td>Automated Phone</td>\n",
              "      <td>48.0</td>\n",
              "      <td>48.0</td>\n",
              "      <td>4.0</td>\n",
              "      <td>NaN</td>\n",
              "      <td>http://elections.huffingtonpost.com/pollster/p...</td>\n",
              "      <td>http://www.gravispolls.com/2012/11/gravis-mark...</td>\n",
              "      <td>Nonpartisan</td>\n",
              "      <td>None</td>\n",
              "      <td>NaN</td>\n",
              "      <td>1</td>\n",
              "    </tr>\n",
              "    <tr>\n",
              "      <th>3</th>\n",
              "      <td>IBD/TIPP</td>\n",
              "      <td>2012-11-03</td>\n",
              "      <td>2012-11-05</td>\n",
              "      <td>2012-11-06T08:51:48Z</td>\n",
              "      <td>712.0</td>\n",
              "      <td>Likely Voters</td>\n",
              "      <td>Live Phone</td>\n",
              "      <td>50.0</td>\n",
              "      <td>49.0</td>\n",
              "      <td>NaN</td>\n",
              "      <td>1.0</td>\n",
              "      <td>http://elections.huffingtonpost.com/pollster/p...</td>\n",
              "      <td>http://news.investors.com/special-report/50841...</td>\n",
              "      <td>Nonpartisan</td>\n",
              "      <td>None</td>\n",
              "      <td>NaN</td>\n",
              "      <td>1</td>\n",
              "    </tr>\n",
              "    <tr>\n",
              "      <th>4</th>\n",
              "      <td>Rasmussen</td>\n",
              "      <td>2012-11-03</td>\n",
              "      <td>2012-11-05</td>\n",
              "      <td>2012-11-06T08:47:50Z</td>\n",
              "      <td>1500.0</td>\n",
              "      <td>Likely Voters</td>\n",
              "      <td>Automated Phone</td>\n",
              "      <td>48.0</td>\n",
              "      <td>49.0</td>\n",
              "      <td>NaN</td>\n",
              "      <td>NaN</td>\n",
              "      <td>http://elections.huffingtonpost.com/pollster/p...</td>\n",
              "      <td>http://www.rasmussenreports.com/public_content...</td>\n",
              "      <td>Nonpartisan</td>\n",
              "      <td>None</td>\n",
              "      <td>NaN</td>\n",
              "      <td>1</td>\n",
              "    </tr>\n",
              "    <tr>\n",
              "      <th>5</th>\n",
              "      <td>JZ Analytics/Newsmax</td>\n",
              "      <td>2012-11-03</td>\n",
              "      <td>2012-11-05</td>\n",
              "      <td>2012-11-06T07:38:41Z</td>\n",
              "      <td>1041.0</td>\n",
              "      <td>Likely Voters</td>\n",
              "      <td>Internet</td>\n",
              "      <td>47.0</td>\n",
              "      <td>47.0</td>\n",
              "      <td>6.0</td>\n",
              "      <td>NaN</td>\n",
              "      <td>http://elections.huffingtonpost.com/pollster/p...</td>\n",
              "      <td>http://www.jzanalytics.com/</td>\n",
              "      <td>Sponsor</td>\n",
              "      <td>Rep</td>\n",
              "      <td>NaN</td>\n",
              "      <td>1</td>\n",
              "    </tr>\n",
              "    <tr>\n",
              "      <th>6</th>\n",
              "      <td>UPI/CVOTER</td>\n",
              "      <td>2012-11-03</td>\n",
              "      <td>2012-11-05</td>\n",
              "      <td>2012-11-05T18:30:15Z</td>\n",
              "      <td>3000.0</td>\n",
              "      <td>Likely Voters</td>\n",
              "      <td>Live Phone</td>\n",
              "      <td>49.0</td>\n",
              "      <td>48.0</td>\n",
              "      <td>NaN</td>\n",
              "      <td>NaN</td>\n",
              "      <td>http://elections.huffingtonpost.com/pollster/p...</td>\n",
              "      <td>NaN</td>\n",
              "      <td>Nonpartisan</td>\n",
              "      <td>None</td>\n",
              "      <td>NaN</td>\n",
              "      <td>1</td>\n",
              "    </tr>\n",
              "    <tr>\n",
              "      <th>7</th>\n",
              "      <td>Ipsos/Reuters (Web)</td>\n",
              "      <td>2012-11-01</td>\n",
              "      <td>2012-11-05</td>\n",
              "      <td>2012-11-05T16:12:48Z</td>\n",
              "      <td>4725.0</td>\n",
              "      <td>Likely Voters</td>\n",
              "      <td>Internet</td>\n",
              "      <td>48.0</td>\n",
              "      <td>46.0</td>\n",
              "      <td>4.0</td>\n",
              "      <td>2.0</td>\n",
              "      <td>http://elections.huffingtonpost.com/pollster/p...</td>\n",
              "      <td>http://big.assets.huffingtonpost.com/ipsos1105...</td>\n",
              "      <td>Nonpartisan</td>\n",
              "      <td>None</td>\n",
              "      <td>NaN</td>\n",
              "      <td>1</td>\n",
              "    </tr>\n",
              "    <tr>\n",
              "      <th>8</th>\n",
              "      <td>ARG</td>\n",
              "      <td>2012-11-02</td>\n",
              "      <td>2012-11-04</td>\n",
              "      <td>2012-11-05T13:06:54Z</td>\n",
              "      <td>1200.0</td>\n",
              "      <td>Likely Voters</td>\n",
              "      <td>Live Phone</td>\n",
              "      <td>49.0</td>\n",
              "      <td>49.0</td>\n",
              "      <td>1.0</td>\n",
              "      <td>1.0</td>\n",
              "      <td>http://elections.huffingtonpost.com/pollster/p...</td>\n",
              "      <td>http://americanresearchgroup.com/pres2012/NA12...</td>\n",
              "      <td>Nonpartisan</td>\n",
              "      <td>None</td>\n",
              "      <td>NaN</td>\n",
              "      <td>1</td>\n",
              "    </tr>\n",
              "    <tr>\n",
              "      <th>9</th>\n",
              "      <td>PPP (D-Americans United for Change)</td>\n",
              "      <td>2012-11-02</td>\n",
              "      <td>2012-11-04</td>\n",
              "      <td>2012-11-04T22:32:19Z</td>\n",
              "      <td>1200.0</td>\n",
              "      <td>Likely Voters</td>\n",
              "      <td>Automated Phone</td>\n",
              "      <td>50.0</td>\n",
              "      <td>48.0</td>\n",
              "      <td>3.0</td>\n",
              "      <td>NaN</td>\n",
              "      <td>http://elections.huffingtonpost.com/pollster/p...</td>\n",
              "      <td>http://www.publicpolicypolling.com/pdf/2011/PP...</td>\n",
              "      <td>Sponsor</td>\n",
              "      <td>Dem</td>\n",
              "      <td>NaN</td>\n",
              "      <td>1</td>\n",
              "    </tr>\n",
              "  </tbody>\n",
              "</table>\n",
              "</div>"
            ],
            "text/plain": [
              "                              Pollster  Start Date    End Date  \\\n",
              "0            Politico/GWU/Battleground  2012-11-04  2012-11-05   \n",
              "1                     YouGov/Economist  2012-11-03  2012-11-05   \n",
              "2                     Gravis Marketing  2012-11-03  2012-11-05   \n",
              "3                             IBD/TIPP  2012-11-03  2012-11-05   \n",
              "4                            Rasmussen  2012-11-03  2012-11-05   \n",
              "5                 JZ Analytics/Newsmax  2012-11-03  2012-11-05   \n",
              "6                           UPI/CVOTER  2012-11-03  2012-11-05   \n",
              "7                  Ipsos/Reuters (Web)  2012-11-01  2012-11-05   \n",
              "8                                  ARG  2012-11-02  2012-11-04   \n",
              "9  PPP (D-Americans United for Change)  2012-11-02  2012-11-04   \n",
              "\n",
              "   Entry Date/Time (ET)  Number of Observations     Population  \\\n",
              "0  2012-11-06T08:40:26Z                  1000.0  Likely Voters   \n",
              "1  2012-11-26T15:31:23Z                   740.0  Likely Voters   \n",
              "2  2012-11-06T09:22:02Z                   872.0  Likely Voters   \n",
              "3  2012-11-06T08:51:48Z                   712.0  Likely Voters   \n",
              "4  2012-11-06T08:47:50Z                  1500.0  Likely Voters   \n",
              "5  2012-11-06T07:38:41Z                  1041.0  Likely Voters   \n",
              "6  2012-11-05T18:30:15Z                  3000.0  Likely Voters   \n",
              "7  2012-11-05T16:12:48Z                  4725.0  Likely Voters   \n",
              "8  2012-11-05T13:06:54Z                  1200.0  Likely Voters   \n",
              "9  2012-11-04T22:32:19Z                  1200.0  Likely Voters   \n",
              "\n",
              "              Mode  Obama  Romney  Undecided  Other  \\\n",
              "0       Live Phone   47.0    47.0        6.0    NaN   \n",
              "1         Internet   49.0    47.0        3.0    NaN   \n",
              "2  Automated Phone   48.0    48.0        4.0    NaN   \n",
              "3       Live Phone   50.0    49.0        NaN    1.0   \n",
              "4  Automated Phone   48.0    49.0        NaN    NaN   \n",
              "5         Internet   47.0    47.0        6.0    NaN   \n",
              "6       Live Phone   49.0    48.0        NaN    NaN   \n",
              "7         Internet   48.0    46.0        4.0    2.0   \n",
              "8       Live Phone   49.0    49.0        1.0    1.0   \n",
              "9  Automated Phone   50.0    48.0        3.0    NaN   \n",
              "\n",
              "                                        Pollster URL  \\\n",
              "0  http://elections.huffingtonpost.com/pollster/p...   \n",
              "1  http://elections.huffingtonpost.com/pollster/p...   \n",
              "2  http://elections.huffingtonpost.com/pollster/p...   \n",
              "3  http://elections.huffingtonpost.com/pollster/p...   \n",
              "4  http://elections.huffingtonpost.com/pollster/p...   \n",
              "5  http://elections.huffingtonpost.com/pollster/p...   \n",
              "6  http://elections.huffingtonpost.com/pollster/p...   \n",
              "7  http://elections.huffingtonpost.com/pollster/p...   \n",
              "8  http://elections.huffingtonpost.com/pollster/p...   \n",
              "9  http://elections.huffingtonpost.com/pollster/p...   \n",
              "\n",
              "                                          Source URL     Partisan Affiliation  \\\n",
              "0  http://www.politico.com/news/stories/1112/8338...  Nonpartisan        None   \n",
              "1  http://cdn.yougov.com/cumulus_uploads/document...  Nonpartisan        None   \n",
              "2  http://www.gravispolls.com/2012/11/gravis-mark...  Nonpartisan        None   \n",
              "3  http://news.investors.com/special-report/50841...  Nonpartisan        None   \n",
              "4  http://www.rasmussenreports.com/public_content...  Nonpartisan        None   \n",
              "5                        http://www.jzanalytics.com/      Sponsor         Rep   \n",
              "6                                                NaN  Nonpartisan        None   \n",
              "7  http://big.assets.huffingtonpost.com/ipsos1105...  Nonpartisan        None   \n",
              "8  http://americanresearchgroup.com/pres2012/NA12...  Nonpartisan        None   \n",
              "9  http://www.publicpolicypolling.com/pdf/2011/PP...      Sponsor         Dem   \n",
              "\n",
              "   Question Text  Question Iteration  \n",
              "0            NaN                   1  \n",
              "1            NaN                   1  \n",
              "2            NaN                   1  \n",
              "3            NaN                   1  \n",
              "4            NaN                   1  \n",
              "5            NaN                   1  \n",
              "6            NaN                   1  \n",
              "7            NaN                   1  \n",
              "8            NaN                   1  \n",
              "9            NaN                   1  "
            ]
          },
          "metadata": {
            "tags": []
          },
          "execution_count": 4
        }
      ]
    },
    {
      "metadata": {
        "id": "R5BV2B8ALyW5",
        "colab_type": "code",
        "outputId": "ddb89cae-8421-464e-9f9b-f60acfe08bcc",
        "colab": {
          "base_uri": "https://localhost:8080/",
          "height": 488
        }
      },
      "cell_type": "code",
      "source": [
        "sns.factorplot('Affiliation', data=poll_df, kind='count', size=6)"
      ],
      "execution_count": 5,
      "outputs": [
        {
          "output_type": "stream",
          "text": [
            "/usr/local/lib/python3.6/dist-packages/seaborn/categorical.py:1428: FutureWarning: remove_na is deprecated and is a private function. Do not use.\n",
            "  stat_data = remove_na(group_data)\n"
          ],
          "name": "stderr"
        },
        {
          "output_type": "execute_result",
          "data": {
            "text/plain": [
              "<seaborn.axisgrid.FacetGrid at 0x7f270563a6d8>"
            ]
          },
          "metadata": {
            "tags": []
          },
          "execution_count": 5
        },
        {
          "output_type": "display_data",
          "data": {
            "image/png": "[encoded data removed]",
            "text/plain": [
              "<Figure size 432x432 with 1 Axes>"
            ]
          },
          "metadata": {
            "tags": []
          }
        }
      ]
    },
    {
      "metadata": {
        "id": "HPD_X1Y-NP3A",
        "colab_type": "text"
      },
      "cell_type": "markdown",
      "source": [
        "Looks like we are overall relatively neutral, but still leaning towards **Democratic Affiliation**, it will be good to keep this in mind. Let's see if sorting by the **Population** hue gives us any further insight into the data."
      ]
    },
    {
      "metadata": {
        "id": "-MYYZclSLyUv",
        "colab_type": "code",
        "outputId": "b8a705ca-8b97-41c1-9c19-e52a9998fe35",
        "colab": {
          "base_uri": "https://localhost:8080/",
          "height": 488
        }
      },
      "cell_type": "code",
      "source": [
        "# the affiliation by Population\n",
        "sns.factorplot('Affiliation', data=poll_df, kind='count', hue='Population', size=6)"
      ],
      "execution_count": 6,
      "outputs": [
        {
          "output_type": "stream",
          "text": [
            "/usr/local/lib/python3.6/dist-packages/seaborn/categorical.py:1468: FutureWarning: remove_na is deprecated and is a private function. Do not use.\n",
            "  stat_data = remove_na(group_data[hue_mask])\n"
          ],
          "name": "stderr"
        },
        {
          "output_type": "execute_result",
          "data": {
            "text/plain": [
              "<seaborn.axisgrid.FacetGrid at 0x7f270354ada0>"
            ]
          },
          "metadata": {
            "tags": []
          },
          "execution_count": 6
        },
        {
          "output_type": "display_data",
          "data": {
            "image/png": "[encoded data removed]",
            "text/plain": [
              "<Figure size 584.125x432 with 1 Axes>"
            ]
          },
          "metadata": {
            "tags": []
          }
        }
      ]
    },
    {
      "metadata": {
        "id": "MxNJFktANzMh",
        "colab_type": "text"
      },
      "cell_type": "markdown",
      "source": [
        "Looks like we have a strong showing of **Likely Voters** and **Registered Voters**, so the poll data should hopefully be a good reflection on the populations polled. Let's take another quick overview of the DataFrame.\n",
        "\n",
        "Let's go ahead and take a look at the averages for Obama, Romney, and the polled people who remained undecided."
      ]
    },
    {
      "metadata": {
        "id": "mgzdsNqcPZ41",
        "colab_type": "code",
        "outputId": "82a60ae3-ff92-4ab1-84a2-073f9b51dc0e",
        "colab": {
          "base_uri": "https://localhost:8080/",
          "height": 297
        }
      },
      "cell_type": "code",
      "source": [
        "poll_df.describe()"
      ],
      "execution_count": 7,
      "outputs": [
        {
          "output_type": "execute_result",
          "data": {
            "text/html": [
              "<div>\n",
              "<style scoped>\n",
              "    .dataframe tbody tr th:only-of-type {\n",
              "        vertical-align: middle;\n",
              "    }\n",
              "\n",
              "    .dataframe tbody tr th {\n",
              "        vertical-align: top;\n",
              "    }\n",
              "\n",
              "    .dataframe thead th {\n",
              "        text-align: right;\n",
              "    }\n",
              "</style>\n",
              "<table border=\"1\" class=\"dataframe\">\n",
              "  <thead>\n",
              "    <tr style=\"text-align: right;\">\n",
              "      <th></th>\n",
              "      <th>Number of Observations</th>\n",
              "      <th>Obama</th>\n",
              "      <th>Romney</th>\n",
              "      <th>Undecided</th>\n",
              "      <th>Other</th>\n",
              "      <th>Question Text</th>\n",
              "      <th>Question Iteration</th>\n",
              "    </tr>\n",
              "  </thead>\n",
              "  <tbody>\n",
              "    <tr>\n",
              "      <th>count</th>\n",
              "      <td>564.000000</td>\n",
              "      <td>586.000000</td>\n",
              "      <td>586.000000</td>\n",
              "      <td>423.000000</td>\n",
              "      <td>202.000000</td>\n",
              "      <td>0.0</td>\n",
              "      <td>586.0</td>\n",
              "    </tr>\n",
              "    <tr>\n",
              "      <th>mean</th>\n",
              "      <td>1296.679078</td>\n",
              "      <td>46.805461</td>\n",
              "      <td>44.614334</td>\n",
              "      <td>6.550827</td>\n",
              "      <td>3.376238</td>\n",
              "      <td>NaN</td>\n",
              "      <td>1.0</td>\n",
              "    </tr>\n",
              "    <tr>\n",
              "      <th>std</th>\n",
              "      <td>1621.268369</td>\n",
              "      <td>2.422058</td>\n",
              "      <td>2.906180</td>\n",
              "      <td>3.701754</td>\n",
              "      <td>2.692726</td>\n",
              "      <td>NaN</td>\n",
              "      <td>0.0</td>\n",
              "    </tr>\n",
              "    <tr>\n",
              "      <th>min</th>\n",
              "      <td>328.000000</td>\n",
              "      <td>37.000000</td>\n",
              "      <td>32.000000</td>\n",
              "      <td>1.000000</td>\n",
              "      <td>0.000000</td>\n",
              "      <td>NaN</td>\n",
              "      <td>1.0</td>\n",
              "    </tr>\n",
              "    <tr>\n",
              "      <th>25%</th>\n",
              "      <td>855.000000</td>\n",
              "      <td>45.000000</td>\n",
              "      <td>43.000000</td>\n",
              "      <td>4.000000</td>\n",
              "      <td>2.000000</td>\n",
              "      <td>NaN</td>\n",
              "      <td>1.0</td>\n",
              "    </tr>\n",
              "    <tr>\n",
              "      <th>50%</th>\n",
              "      <td>1000.000000</td>\n",
              "      <td>47.000000</td>\n",
              "      <td>45.000000</td>\n",
              "      <td>6.000000</td>\n",
              "      <td>3.000000</td>\n",
              "      <td>NaN</td>\n",
              "      <td>1.0</td>\n",
              "    </tr>\n",
              "    <tr>\n",
              "      <th>75%</th>\n",
              "      <td>1500.000000</td>\n",
              "      <td>48.000000</td>\n",
              "      <td>46.750000</td>\n",
              "      <td>8.000000</td>\n",
              "      <td>4.000000</td>\n",
              "      <td>NaN</td>\n",
              "      <td>1.0</td>\n",
              "    </tr>\n",
              "    <tr>\n",
              "      <th>max</th>\n",
              "      <td>36472.000000</td>\n",
              "      <td>54.000000</td>\n",
              "      <td>53.000000</td>\n",
              "      <td>28.000000</td>\n",
              "      <td>19.000000</td>\n",
              "      <td>NaN</td>\n",
              "      <td>1.0</td>\n",
              "    </tr>\n",
              "  </tbody>\n",
              "</table>\n",
              "</div>"
            ],
            "text/plain": [
              "       Number of Observations       Obama      Romney   Undecided       Other  \\\n",
              "count              564.000000  586.000000  586.000000  423.000000  202.000000   \n",
              "mean              1296.679078   46.805461   44.614334    6.550827    3.376238   \n",
              "std               1621.268369    2.422058    2.906180    3.701754    2.692726   \n",
              "min                328.000000   37.000000   32.000000    1.000000    0.000000   \n",
              "25%                855.000000   45.000000   43.000000    4.000000    2.000000   \n",
              "50%               1000.000000   47.000000   45.000000    6.000000    3.000000   \n",
              "75%               1500.000000   48.000000   46.750000    8.000000    4.000000   \n",
              "max              36472.000000   54.000000   53.000000   28.000000   19.000000   \n",
              "\n",
              "       Question Text  Question Iteration  \n",
              "count            0.0               586.0  \n",
              "mean             NaN                 1.0  \n",
              "std              NaN                 0.0  \n",
              "min              NaN                 1.0  \n",
              "25%              NaN                 1.0  \n",
              "50%              NaN                 1.0  \n",
              "75%              NaN                 1.0  \n",
              "max              NaN                 1.0  "
            ]
          },
          "metadata": {
            "tags": []
          },
          "execution_count": 7
        }
      ]
    },
    {
      "metadata": {
        "id": "d5LBrCa4LyPO",
        "colab_type": "code",
        "outputId": "6ed77812-4241-482a-9fd2-4ef86a8edac1",
        "colab": {
          "base_uri": "https://localhost:8080/",
          "height": 266
        }
      },
      "cell_type": "code",
      "source": [
        "avg = pd.DataFrame(poll_df.mean(), columns=['Mean'])\n",
        "avg"
      ],
      "execution_count": 8,
      "outputs": [
        {
          "output_type": "execute_result",
          "data": {
            "text/html": [
              "<div>\n",
              "<style scoped>\n",
              "    .dataframe tbody tr th:only-of-type {\n",
              "        vertical-align: middle;\n",
              "    }\n",
              "\n",
              "    .dataframe tbody tr th {\n",
              "        vertical-align: top;\n",
              "    }\n",
              "\n",
              "    .dataframe thead th {\n",
              "        text-align: right;\n",
              "    }\n",
              "</style>\n",
              "<table border=\"1\" class=\"dataframe\">\n",
              "  <thead>\n",
              "    <tr style=\"text-align: right;\">\n",
              "      <th></th>\n",
              "      <th>Mean</th>\n",
              "    </tr>\n",
              "  </thead>\n",
              "  <tbody>\n",
              "    <tr>\n",
              "      <th>Number of Observations</th>\n",
              "      <td>1296.679078</td>\n",
              "    </tr>\n",
              "    <tr>\n",
              "      <th>Obama</th>\n",
              "      <td>46.805461</td>\n",
              "    </tr>\n",
              "    <tr>\n",
              "      <th>Romney</th>\n",
              "      <td>44.614334</td>\n",
              "    </tr>\n",
              "    <tr>\n",
              "      <th>Undecided</th>\n",
              "      <td>6.550827</td>\n",
              "    </tr>\n",
              "    <tr>\n",
              "      <th>Other</th>\n",
              "      <td>3.376238</td>\n",
              "    </tr>\n",
              "    <tr>\n",
              "      <th>Question Text</th>\n",
              "      <td>NaN</td>\n",
              "    </tr>\n",
              "    <tr>\n",
              "      <th>Question Iteration</th>\n",
              "      <td>1.000000</td>\n",
              "    </tr>\n",
              "  </tbody>\n",
              "</table>\n",
              "</div>"
            ],
            "text/plain": [
              "                               Mean\n",
              "Number of Observations  1296.679078\n",
              "Obama                     46.805461\n",
              "Romney                    44.614334\n",
              "Undecided                  6.550827\n",
              "Other                      3.376238\n",
              "Question Text                   NaN\n",
              "Question Iteration         1.000000"
            ]
          },
          "metadata": {
            "tags": []
          },
          "execution_count": 8
        }
      ]
    },
    {
      "metadata": {
        "id": "-rQ-44KALyHl",
        "colab_type": "code",
        "outputId": "7f5a29d8-5565-4b62-e099-b43f017a4cdd",
        "colab": {
          "base_uri": "https://localhost:8080/",
          "height": 266
        }
      },
      "cell_type": "code",
      "source": [
        "std = pd.DataFrame(poll_df.std(), columns=['Standard Deviation'])\n",
        "std"
      ],
      "execution_count": 9,
      "outputs": [
        {
          "output_type": "execute_result",
          "data": {
            "text/html": [
              "<div>\n",
              "<style scoped>\n",
              "    .dataframe tbody tr th:only-of-type {\n",
              "        vertical-align: middle;\n",
              "    }\n",
              "\n",
              "    .dataframe tbody tr th {\n",
              "        vertical-align: top;\n",
              "    }\n",
              "\n",
              "    .dataframe thead th {\n",
              "        text-align: right;\n",
              "    }\n",
              "</style>\n",
              "<table border=\"1\" class=\"dataframe\">\n",
              "  <thead>\n",
              "    <tr style=\"text-align: right;\">\n",
              "      <th></th>\n",
              "      <th>Standard Deviation</th>\n",
              "    </tr>\n",
              "  </thead>\n",
              "  <tbody>\n",
              "    <tr>\n",
              "      <th>Number of Observations</th>\n",
              "      <td>1621.268369</td>\n",
              "    </tr>\n",
              "    <tr>\n",
              "      <th>Obama</th>\n",
              "      <td>2.422058</td>\n",
              "    </tr>\n",
              "    <tr>\n",
              "      <th>Romney</th>\n",
              "      <td>2.906180</td>\n",
              "    </tr>\n",
              "    <tr>\n",
              "      <th>Undecided</th>\n",
              "      <td>3.701754</td>\n",
              "    </tr>\n",
              "    <tr>\n",
              "      <th>Other</th>\n",
              "      <td>2.692726</td>\n",
              "    </tr>\n",
              "    <tr>\n",
              "      <th>Question Text</th>\n",
              "      <td>NaN</td>\n",
              "    </tr>\n",
              "    <tr>\n",
              "      <th>Question Iteration</th>\n",
              "      <td>0.000000</td>\n",
              "    </tr>\n",
              "  </tbody>\n",
              "</table>\n",
              "</div>"
            ],
            "text/plain": [
              "                        Standard Deviation\n",
              "Number of Observations         1621.268369\n",
              "Obama                             2.422058\n",
              "Romney                            2.906180\n",
              "Undecided                         3.701754\n",
              "Other                             2.692726\n",
              "Question Text                          NaN\n",
              "Question Iteration                0.000000"
            ]
          },
          "metadata": {
            "tags": []
          },
          "execution_count": 9
        }
      ]
    },
    {
      "metadata": {
        "id": "2Ao5sVbtOtSk",
        "colab_type": "code",
        "colab": {}
      },
      "cell_type": "code",
      "source": [
        "# drop the Number of Observations' row in both DataFrames\n",
        "std.drop('Number of Observations', axis=0, inplace=True)\n",
        "avg.drop('Number of Observations', axis=0, inplace=True)"
      ],
      "execution_count": 0,
      "outputs": []
    },
    {
      "metadata": {
        "id": "Mj96ekVFORAE",
        "colab_type": "code",
        "outputId": "4ea40ef5-2b50-4d50-b5d9-56389573d6de",
        "colab": {
          "base_uri": "https://localhost:8080/",
          "height": 460
        }
      },
      "cell_type": "code",
      "source": [
        "# plot the result by using pandas built-in plot function with kind='bar' and set the y error, yerr='std'\n",
        "# set the y error ()\n",
        "avg.plot(yerr=std, kind='bar', legend=False, figsize=(15,6))"
      ],
      "execution_count": 11,
      "outputs": [
        {
          "output_type": "execute_result",
          "data": {
            "text/plain": [
              "<matplotlib.axes._subplots.AxesSubplot at 0x7f2703437630>"
            ]
          },
          "metadata": {
            "tags": []
          },
          "execution_count": 11
        },
        {
          "output_type": "display_data",
          "data": {
            "image/png": "[encoded data removed]",
            "text/plain": [
              "<Figure size 1080x432 with 1 Axes>"
            ]
          },
          "metadata": {
            "tags": []
          }
        }
      ]
    },
    {
      "metadata": {
        "id": "WgKntpdlPzMN",
        "colab_type": "text"
      },
      "cell_type": "markdown",
      "source": [
        "This is the average sentiment of all the polls. Interesting to see how close these polls seem to be, especially considering the undecided factor. Let's take a look at the numbers."
      ]
    },
    {
      "metadata": {
        "id": "xN5DN79pOnjG",
        "colab_type": "code",
        "outputId": "80822359-d287-4606-ab15-3ed795793c42",
        "colab": {
          "base_uri": "https://localhost:8080/",
          "height": 235
        }
      },
      "cell_type": "code",
      "source": [
        "# concatenate the two dataframes (mean and std)\n",
        "poll_avg = pd.concat([avg, std], axis=1)\n",
        "poll_avg.columns = ['Average', 'STD']\n",
        "poll_avg"
      ],
      "execution_count": 12,
      "outputs": [
        {
          "output_type": "execute_result",
          "data": {
            "text/html": [
              "<div>\n",
              "<style scoped>\n",
              "    .dataframe tbody tr th:only-of-type {\n",
              "        vertical-align: middle;\n",
              "    }\n",
              "\n",
              "    .dataframe tbody tr th {\n",
              "        vertical-align: top;\n",
              "    }\n",
              "\n",
              "    .dataframe thead th {\n",
              "        text-align: right;\n",
              "    }\n",
              "</style>\n",
              "<table border=\"1\" class=\"dataframe\">\n",
              "  <thead>\n",
              "    <tr style=\"text-align: right;\">\n",
              "      <th></th>\n",
              "      <th>Average</th>\n",
              "      <th>STD</th>\n",
              "    </tr>\n",
              "  </thead>\n",
              "  <tbody>\n",
              "    <tr>\n",
              "      <th>Obama</th>\n",
              "      <td>46.805461</td>\n",
              "      <td>2.422058</td>\n",
              "    </tr>\n",
              "    <tr>\n",
              "      <th>Romney</th>\n",
              "      <td>44.614334</td>\n",
              "      <td>2.906180</td>\n",
              "    </tr>\n",
              "    <tr>\n",
              "      <th>Undecided</th>\n",
              "      <td>6.550827</td>\n",
              "      <td>3.701754</td>\n",
              "    </tr>\n",
              "    <tr>\n",
              "      <th>Other</th>\n",
              "      <td>3.376238</td>\n",
              "      <td>2.692726</td>\n",
              "    </tr>\n",
              "    <tr>\n",
              "      <th>Question Text</th>\n",
              "      <td>NaN</td>\n",
              "      <td>NaN</td>\n",
              "    </tr>\n",
              "    <tr>\n",
              "      <th>Question Iteration</th>\n",
              "      <td>1.000000</td>\n",
              "      <td>0.000000</td>\n",
              "    </tr>\n",
              "  </tbody>\n",
              "</table>\n",
              "</div>"
            ],
            "text/plain": [
              "                      Average       STD\n",
              "Obama               46.805461  2.422058\n",
              "Romney              44.614334  2.906180\n",
              "Undecided            6.550827  3.701754\n",
              "Other                3.376238  2.692726\n",
              "Question Text             NaN       NaN\n",
              "Question Iteration   1.000000  0.000000"
            ]
          },
          "metadata": {
            "tags": []
          },
          "execution_count": 12
        }
      ]
    },
    {
      "metadata": {
        "id": "tqkNoj3uQlMd",
        "colab_type": "text"
      },
      "cell_type": "markdown",
      "source": [
        "Looks like the polls indicate it as a fairly close race, but what about the undecided voters? Most of them will likely vote for one of the candidates once the election occurs. If we assume we split the undecided evenly between the two candidates, the observed difference should be an unbiased estimate of the final difference. If we wanted to, we could also do a quick time series analysis of the voter sentiment by plotting Obama/Romney favor versus the Poll End Dates. Let's take a look at how we could quickly do that in pandas. \n",
        "\n",
        "**Note:** The time is in reverse chronological order. Also keep in mind the multiple polls per end date."
      ]
    },
    {
      "metadata": {
        "id": "a_tqGBGHPrtW",
        "colab_type": "code",
        "outputId": "1e18d508-6e8b-4249-992a-8e3946281bc4",
        "colab": {
          "base_uri": "https://localhost:8080/",
          "height": 459
        }
      },
      "cell_type": "code",
      "source": [
        "# plot of sentiment in the polls versus time.\n",
        "poll_df.plot(x='End Date', y=['Obama','Romney','Undecided'], linestyle='', marker='o', figsize=(15,6), xticks=(0,200, 400, 500))"
      ],
      "execution_count": 13,
      "outputs": [
        {
          "output_type": "stream",
          "text": [
            "/usr/local/lib/python3.6/dist-packages/pandas/plotting/_core.py:1716: UserWarning: Pandas doesn't allow columns to be created via a new attribute name - see https://pandas.pydata.org/pandas-docs/stable/indexing.html#attribute-access\n",
            "  series.name = label\n"
          ],
          "name": "stderr"
        },
        {
          "output_type": "execute_result",
          "data": {
            "text/plain": [
              "<matplotlib.axes._subplots.AxesSubplot at 0x7f2703409860>"
            ]
          },
          "metadata": {
            "tags": []
          },
          "execution_count": 13
        },
        {
          "output_type": "display_data",
          "data": {
            "image/png": "[encoded data removed]",
            "text/plain": [
              "<Figure size 1080x432 with 1 Axes>"
            ]
          },
          "metadata": {
            "tags": []
          }
        }
      ]
    },
    {
      "metadata": {
        "id": "HSl2sllnS00M",
        "colab_type": "text"
      },
      "cell_type": "markdown",
      "source": [
        "We can see the quick time analysis of voter sentiment for each of the candidates and undecided voters. In the x axis, on the right hand side, there are the earlier dates and on the left hand side are the later dates. Trend of undecided voters starts to go down as you get closer to elections. And the other interesting thing is Obama and Romney are getting closer and closer on the left hand side. While this may give you a quick idea, go ahead and try creating a new DataFrame or editing poll_df to make a better visualization of the above idea. Let's go ahead and plot out the difference between Obama and Romney and how it changes as time moves along."
      ]
    },
    {
      "metadata": {
        "id": "QFHTujnWSNhW",
        "colab_type": "code",
        "outputId": "e282834b-48c5-4572-a3dd-286d4b661a74",
        "colab": {
          "base_uri": "https://localhost:8080/",
          "height": 204
        }
      },
      "cell_type": "code",
      "source": [
        "poll_df[['Obama','Romney']].head(5)"
      ],
      "execution_count": 14,
      "outputs": [
        {
          "output_type": "execute_result",
          "data": {
            "text/html": [
              "<div>\n",
              "<style scoped>\n",
              "    .dataframe tbody tr th:only-of-type {\n",
              "        vertical-align: middle;\n",
              "    }\n",
              "\n",
              "    .dataframe tbody tr th {\n",
              "        vertical-align: top;\n",
              "    }\n",
              "\n",
              "    .dataframe thead th {\n",
              "        text-align: right;\n",
              "    }\n",
              "</style>\n",
              "<table border=\"1\" class=\"dataframe\">\n",
              "  <thead>\n",
              "    <tr style=\"text-align: right;\">\n",
              "      <th></th>\n",
              "      <th>Obama</th>\n",
              "      <th>Romney</th>\n",
              "    </tr>\n",
              "  </thead>\n",
              "  <tbody>\n",
              "    <tr>\n",
              "      <th>0</th>\n",
              "      <td>47.0</td>\n",
              "      <td>47.0</td>\n",
              "    </tr>\n",
              "    <tr>\n",
              "      <th>1</th>\n",
              "      <td>49.0</td>\n",
              "      <td>47.0</td>\n",
              "    </tr>\n",
              "    <tr>\n",
              "      <th>2</th>\n",
              "      <td>48.0</td>\n",
              "      <td>48.0</td>\n",
              "    </tr>\n",
              "    <tr>\n",
              "      <th>3</th>\n",
              "      <td>50.0</td>\n",
              "      <td>49.0</td>\n",
              "    </tr>\n",
              "    <tr>\n",
              "      <th>4</th>\n",
              "      <td>48.0</td>\n",
              "      <td>49.0</td>\n",
              "    </tr>\n",
              "  </tbody>\n",
              "</table>\n",
              "</div>"
            ],
            "text/plain": [
              "   Obama  Romney\n",
              "0   47.0    47.0\n",
              "1   49.0    47.0\n",
              "2   48.0    48.0\n",
              "3   50.0    49.0\n",
              "4   48.0    49.0"
            ]
          },
          "metadata": {
            "tags": []
          },
          "execution_count": 14
        }
      ]
    },
    {
      "metadata": {
        "id": "W9luSsqwSz4u",
        "colab_type": "code",
        "outputId": "95153434-c91d-42af-c888-804cfddf532a",
        "colab": {
          "base_uri": "https://localhost:8080/",
          "height": 204
        }
      },
      "cell_type": "code",
      "source": [
        "poll_df['Difference Percentage'] = (poll_df.Obama - poll_df.Romney) / 100 # percentage points\n",
        "poll_df[['Obama','Romney','Difference Percentage']].head(5)"
      ],
      "execution_count": 15,
      "outputs": [
        {
          "output_type": "execute_result",
          "data": {
            "text/html": [
              "<div>\n",
              "<style scoped>\n",
              "    .dataframe tbody tr th:only-of-type {\n",
              "        vertical-align: middle;\n",
              "    }\n",
              "\n",
              "    .dataframe tbody tr th {\n",
              "        vertical-align: top;\n",
              "    }\n",
              "\n",
              "    .dataframe thead th {\n",
              "        text-align: right;\n",
              "    }\n",
              "</style>\n",
              "<table border=\"1\" class=\"dataframe\">\n",
              "  <thead>\n",
              "    <tr style=\"text-align: right;\">\n",
              "      <th></th>\n",
              "      <th>Obama</th>\n",
              "      <th>Romney</th>\n",
              "      <th>Difference Percentage</th>\n",
              "    </tr>\n",
              "  </thead>\n",
              "  <tbody>\n",
              "    <tr>\n",
              "      <th>0</th>\n",
              "      <td>47.0</td>\n",
              "      <td>47.0</td>\n",
              "      <td>0.00</td>\n",
              "    </tr>\n",
              "    <tr>\n",
              "      <th>1</th>\n",
              "      <td>49.0</td>\n",
              "      <td>47.0</td>\n",
              "      <td>0.02</td>\n",
              "    </tr>\n",
              "    <tr>\n",
              "      <th>2</th>\n",
              "      <td>48.0</td>\n",
              "      <td>48.0</td>\n",
              "      <td>0.00</td>\n",
              "    </tr>\n",
              "    <tr>\n",
              "      <th>3</th>\n",
              "      <td>50.0</td>\n",
              "      <td>49.0</td>\n",
              "      <td>0.01</td>\n",
              "    </tr>\n",
              "    <tr>\n",
              "      <th>4</th>\n",
              "      <td>48.0</td>\n",
              "      <td>49.0</td>\n",
              "      <td>-0.01</td>\n",
              "    </tr>\n",
              "  </tbody>\n",
              "</table>\n",
              "</div>"
            ],
            "text/plain": [
              "   Obama  Romney  Difference Percentage\n",
              "0   47.0    47.0                   0.00\n",
              "1   49.0    47.0                   0.02\n",
              "2   48.0    48.0                   0.00\n",
              "3   50.0    49.0                   0.01\n",
              "4   48.0    49.0                  -0.01"
            ]
          },
          "metadata": {
            "tags": []
          },
          "execution_count": 15
        }
      ]
    },
    {
      "metadata": {
        "id": "c74mFsnFT7ce",
        "colab_type": "text"
      },
      "cell_type": "markdown",
      "source": [
        "**Positive difference** indicates a leaning towards Obama in the polls.\n",
        "**Negative difference** indicates a leaning towards Romney in the polls.\n",
        "\n",
        "Now let's go ahead and see if we can visualize how this sentiment in difference changes over time. We will start by using groupby to group the polls by their start data and then sorting it by that Start Date."
      ]
    },
    {
      "metadata": {
        "id": "0336nTleTd3u",
        "colab_type": "code",
        "outputId": "88862442-a83e-47f9-a3f6-21187f68c90d",
        "colab": {
          "base_uri": "https://localhost:8080/",
          "height": 204
        }
      },
      "cell_type": "code",
      "source": [
        "poll_df = poll_df.groupby(['Start Date'], as_index=False).mean()\n",
        "poll_df.head(5)"
      ],
      "execution_count": 16,
      "outputs": [
        {
          "output_type": "execute_result",
          "data": {
            "text/html": [
              "<div>\n",
              "<style scoped>\n",
              "    .dataframe tbody tr th:only-of-type {\n",
              "        vertical-align: middle;\n",
              "    }\n",
              "\n",
              "    .dataframe tbody tr th {\n",
              "        vertical-align: top;\n",
              "    }\n",
              "\n",
              "    .dataframe thead th {\n",
              "        text-align: right;\n",
              "    }\n",
              "</style>\n",
              "<table border=\"1\" class=\"dataframe\">\n",
              "  <thead>\n",
              "    <tr style=\"text-align: right;\">\n",
              "      <th></th>\n",
              "      <th>Start Date</th>\n",
              "      <th>Number of Observations</th>\n",
              "      <th>Obama</th>\n",
              "      <th>Romney</th>\n",
              "      <th>Undecided</th>\n",
              "      <th>Other</th>\n",
              "      <th>Question Text</th>\n",
              "      <th>Question Iteration</th>\n",
              "      <th>Difference Percentage</th>\n",
              "    </tr>\n",
              "  </thead>\n",
              "  <tbody>\n",
              "    <tr>\n",
              "      <th>0</th>\n",
              "      <td>2009-03-13</td>\n",
              "      <td>1403.0</td>\n",
              "      <td>44.0</td>\n",
              "      <td>44.0</td>\n",
              "      <td>12.0</td>\n",
              "      <td>NaN</td>\n",
              "      <td>NaN</td>\n",
              "      <td>1</td>\n",
              "      <td>0.00</td>\n",
              "    </tr>\n",
              "    <tr>\n",
              "      <th>1</th>\n",
              "      <td>2009-04-17</td>\n",
              "      <td>686.0</td>\n",
              "      <td>50.0</td>\n",
              "      <td>39.0</td>\n",
              "      <td>11.0</td>\n",
              "      <td>NaN</td>\n",
              "      <td>NaN</td>\n",
              "      <td>1</td>\n",
              "      <td>0.11</td>\n",
              "    </tr>\n",
              "    <tr>\n",
              "      <th>2</th>\n",
              "      <td>2009-05-14</td>\n",
              "      <td>1000.0</td>\n",
              "      <td>53.0</td>\n",
              "      <td>35.0</td>\n",
              "      <td>12.0</td>\n",
              "      <td>NaN</td>\n",
              "      <td>NaN</td>\n",
              "      <td>1</td>\n",
              "      <td>0.18</td>\n",
              "    </tr>\n",
              "    <tr>\n",
              "      <th>3</th>\n",
              "      <td>2009-06-12</td>\n",
              "      <td>638.0</td>\n",
              "      <td>48.0</td>\n",
              "      <td>40.0</td>\n",
              "      <td>12.0</td>\n",
              "      <td>NaN</td>\n",
              "      <td>NaN</td>\n",
              "      <td>1</td>\n",
              "      <td>0.08</td>\n",
              "    </tr>\n",
              "    <tr>\n",
              "      <th>4</th>\n",
              "      <td>2009-07-15</td>\n",
              "      <td>577.0</td>\n",
              "      <td>49.0</td>\n",
              "      <td>40.0</td>\n",
              "      <td>11.0</td>\n",
              "      <td>NaN</td>\n",
              "      <td>NaN</td>\n",
              "      <td>1</td>\n",
              "      <td>0.09</td>\n",
              "    </tr>\n",
              "  </tbody>\n",
              "</table>\n",
              "</div>"
            ],
            "text/plain": [
              "   Start Date  Number of Observations  Obama  Romney  Undecided  Other  \\\n",
              "0  2009-03-13                  1403.0   44.0    44.0       12.0    NaN   \n",
              "1  2009-04-17                   686.0   50.0    39.0       11.0    NaN   \n",
              "2  2009-05-14                  1000.0   53.0    35.0       12.0    NaN   \n",
              "3  2009-06-12                   638.0   48.0    40.0       12.0    NaN   \n",
              "4  2009-07-15                   577.0   49.0    40.0       11.0    NaN   \n",
              "\n",
              "   Question Text  Question Iteration  Difference Percentage  \n",
              "0            NaN                   1                   0.00  \n",
              "1            NaN                   1                   0.11  \n",
              "2            NaN                   1                   0.18  \n",
              "3            NaN                   1                   0.08  \n",
              "4            NaN                   1                   0.09  "
            ]
          },
          "metadata": {
            "tags": []
          },
          "execution_count": 16
        }
      ]
    },
    {
      "metadata": {
        "id": "KgTVlUzKWvq9",
        "colab_type": "code",
        "outputId": "be8fe31a-d5d2-4810-cdaa-7ec83e6f60cf",
        "colab": {
          "base_uri": "https://localhost:8080/",
          "height": 405
        }
      },
      "cell_type": "code",
      "source": [
        "poll_df.plot(x='Start Date', y='Difference Percentage', figsize=(15,6), marker='o', linestyle='-', color='green', xticks=(25,130,240,330))"
      ],
      "execution_count": 17,
      "outputs": [
        {
          "output_type": "execute_result",
          "data": {
            "text/plain": [
              "<matplotlib.axes._subplots.AxesSubplot at 0x7f27030a8c50>"
            ]
          },
          "metadata": {
            "tags": []
          },
          "execution_count": 17
        },
        {
          "output_type": "display_data",
          "data": {
            "image/png": "[encoded data removed]",
            "text/plain": [
              "<Figure size 1080x432 with 1 Axes>"
            ]
          },
          "metadata": {
            "tags": []
          }
        }
      ]
    },
    {
      "metadata": {
        "id": "1aqpfjRZeneK",
        "colab_type": "text"
      },
      "cell_type": "markdown",
      "source": [
        "Looks like Obama was in the lead for most of the year. Because if the difference is minus, then it means Romney was leading. \n",
        "\n",
        "It would be very interesting to plot marker lines on the dates of the debates and see if there is any general insight to the poll results. The debate dates were Oct 3rd, Oct 11, and Oct 22nd. Let's plot some lines as markers and then zoom in on the month of October. In order to find where to set the x limits for the figure, we need to find out where the index for the month of October in 2012 is. Here's a simple for loop to find that row. Note, the string format of the date makes this difficult to do without using a lambda expression or a map."
      ]
    },
    {
      "metadata": {
        "id": "hc5zDk7vcNU9",
        "colab_type": "code",
        "outputId": "1f87b63a-0087-472c-9f98-1b64d6d14077",
        "colab": {
          "base_uri": "https://localhost:8080/",
          "height": 51
        }
      },
      "cell_type": "code",
      "source": [
        "# set row count and xlimit list\n",
        "row_in = 0 # row_index\n",
        "xlimit = []\n",
        "\n",
        "for date in poll_df['Start Date']:\n",
        "    if date[0:7] == '2012-10':\n",
        "        xlimit.append(row_in)\n",
        "        row_in += 1\n",
        "    else:\n",
        "        row_in += 1\n",
        "        \n",
        "min_xlimit = min(xlimit)\n",
        "max_xlimit = max(xlimit)\n",
        "print(xlimit)\n",
        "print(min_xlimit, max_xlimit)"
      ],
      "execution_count": 18,
      "outputs": [
        {
          "output_type": "stream",
          "text": [
            "[325, 326, 327, 328, 329, 330, 331, 332, 333, 334, 335, 336, 337, 338, 339, 340, 341, 342, 343, 344, 345, 346, 347, 348, 349, 350, 351, 352]\n",
            "325 352\n"
          ],
          "name": "stdout"
        }
      ]
    },
    {
      "metadata": {
        "id": "JkoXWRyfkrby",
        "colab_type": "text"
      },
      "cell_type": "markdown",
      "source": [
        "The debate dates were Oct 3rd, Oct 11th, and Oct 22nd. So, now we are going to plot some lines on top of this plot, and see where we can find the markers of the debates and any chances to the sentiment of voters."
      ]
    },
    {
      "metadata": {
        "id": "mkOhS42hkaes",
        "colab_type": "code",
        "outputId": "585affcc-1649-4f70-b8ca-1771a1a0adc6",
        "colab": {
          "base_uri": "https://localhost:8080/",
          "height": 447
        }
      },
      "cell_type": "code",
      "source": [
        "poll_df.plot(x='Start Date', y='Difference Percentage', \n",
        "             figsize=(15,6), marker='o', linestyle='-', \n",
        "             color='green', xlim=(min_xlimit, max_xlimit),\n",
        "             xticks=(min_xlimit+1, min_xlimit+2, min_xlimit+8, min_xlimit+18),\n",
        "             )\n",
        "\n",
        "plt.xticks(rotation='vertical')\n",
        "\n",
        "# add the debate markers for Oct 2nd, Oct 4th, Oct 11th and Oct 22nd\n",
        "# the reason why we plot Oct 2nd and Oct 4th instead of Oct 3rd is the data belonging to the first debate date is not recorded\n",
        "\n",
        "# Oct 2nd\n",
        "plt.axvline(min_xlimit+1, linewidth=4, color='grey')\n",
        "\n",
        "# Oct 4th\n",
        "plt.axvline(min_xlimit+2, linewidth=4, color='grey')\n",
        "\n",
        "# Oct 11th\n",
        "plt.axvline(min_xlimit+8, linewidth=4, color='grey')\n",
        "\n",
        "# Oct 22nd\n",
        "plt.axvline(min_xlimit+18, linewidth=4, color='grey')"
      ],
      "execution_count": 19,
      "outputs": [
        {
          "output_type": "execute_result",
          "data": {
            "text/plain": [
              "<matplotlib.lines.Line2D at 0x7f2702051860>"
            ]
          },
          "metadata": {
            "tags": []
          },
          "execution_count": 19
        },
        {
          "output_type": "display_data",
          "data": {
            "image/png": "[encoded data removed]",
            "text/plain": [
              "<Figure size 1080x432 with 1 Axes>"
            ]
          },
          "metadata": {
            "tags": []
          }
        }
      ]
    },
    {
      "metadata": {
        "id": "urGWw0vioIvA",
        "colab_type": "text"
      },
      "cell_type": "markdown",
      "source": [
        "After the first debate, sentiment for Obama increased, and after the second debate Romney was more favorable, after the third debate every ones were pretty even.\n",
        "\n",
        "For all these polls, it is important to remember how geographical location can effect the value of a poll in predicting the outcomes of a national election."
      ]
    },
    {
      "metadata": {
        "id": "-_TXCZqSrtyc",
        "colab_type": "text"
      },
      "cell_type": "markdown",
      "source": [
        "## Donor Data Set\n",
        "\n",
        "Let's take a look at a data set consisting of information on donations to the federal campaign. You can download it [here](https://www.dropbox.com/s/l29oppon2veaq4n/Election_Donor_Data.csv?dl=0).\n",
        "\n",
        "The questions we will be trying to answer while looking at this data set is:\n",
        "\n",
        "    1. How much was donated and what was the average donation?\n",
        "    2. How did the donations differ between candidates?\n",
        "    3. How did the donations differ between Democrats and Republicans?\n",
        "    4. What were the demographics of the donors?\n",
        "    5. Is there a pattern to donation amounts?"
      ]
    },
    {
      "metadata": {
        "id": "QJE9qFfNyyb-",
        "colab_type": "code",
        "outputId": "de9b71a6-fd1b-42c4-fc82-34567a7f9264",
        "colab": {
          "resources": {
            "http://localhost:8080/nbextensions/google.colab/files.js": {
              "data": "Ly8gQ29weXJpZ2h0IDIwMTcgR29vZ2xlIExMQwovLwovLyBMaWNlbnNlZCB1bmRlciB0aGUgQXBhY2hlIExpY2Vuc2UsIFZlcnNpb24gMi4wICh0aGUgIkxpY2Vuc2UiKTsKLy8geW91IG1heSBub3QgdXNlIHRoaXMgZmlsZSBleGNlcHQgaW4gY29tcGxpYW5jZSB3aXRoIHRoZSBMaWNlbnNlLgovLyBZb3UgbWF5IG9idGFpbiBhIGNvcHkgb2YgdGhlIExpY2Vuc2UgYXQKLy8KLy8gICAgICBodHRwOi8vd3d3LmFwYWNoZS5vcmcvbGljZW5zZXMvTElDRU5TRS0yLjAKLy8KLy8gVW5sZXNzIHJlcXVpcmVkIGJ5IGFwcGxpY2FibGUgbGF3IG9yIGFncmVlZCB0byBpbiB3cml0aW5nLCBzb2Z0d2FyZQovLyBkaXN0cmlidXRlZCB1bmRlciB0aGUgTGljZW5zZSBpcyBkaXN0cmlidXRlZCBvbiBhbiAiQVMgSVMiIEJBU0lTLAovLyBXSVRIT1VUIFdBUlJBTlRJRVMgT1IgQ09ORElUSU9OUyBPRiBBTlkgS0lORCwgZWl0aGVyIGV4cHJlc3Mgb3IgaW1wbGllZC4KLy8gU2VlIHRoZSBMaWNlbnNlIGZvciB0aGUgc3BlY2lmaWMgbGFuZ3VhZ2UgZ292ZXJuaW5nIHBlcm1pc3Npb25zIGFuZAovLyBsaW1pdGF0aW9ucyB1bmRlciB0aGUgTGljZW5zZS4KCi8qKgogKiBAZmlsZW92ZXJ2aWV3IEhlbHBlcnMgZm9yIGdvb2dsZS5jb2xhYiBQeXRob24gbW9kdWxlLgogKi8KKGZ1bmN0aW9uKHNjb3BlKSB7CmZ1bmN0aW9uIHNwYW4odGV4dCwgc3R5bGVBdHRyaWJ1dGVzID0ge30pIHsKICBjb25zdCBlbGVtZW50ID0gZG9jdW1lbnQuY3JlYXRlRWxlbWVudCgnc3BhbicpOwogIGVsZW1lbnQudGV4dENvbnRlbnQgPSB0ZXh0OwogIGZvciAoY29uc3Qga2V5IG9mIE9iamVjdC5rZXlzKHN0eWxlQXR0cmlidXRlcykpIHsKICAgIGVsZW1lbnQuc3R5bGVba2V5XSA9IHN0eWxlQXR0cmlidXRlc1trZXldOwogIH0KICByZXR1cm4gZWxlbWVudDsKfQoKLy8gTWF4IG51bWJlciBvZiBieXRlcyB3aGljaCB3aWxsIGJlIHVwbG9hZGVkIGF0IGEgdGltZS4KY29uc3QgTUFYX1BBWUxPQURfU0laRSA9IDEwMCAqIDEwMjQ7Ci8vIE1heCBhbW91bnQgb2YgdGltZSB0byBibG9jayB3YWl0aW5nIGZvciB0aGUgdXNlci4KY29uc3QgRklMRV9DSEFOR0VfVElNRU9VVF9NUyA9IDMwICogMTAwMDsKCmZ1bmN0aW9uIF91cGxvYWRGaWxlcyhpbnB1dElkLCBvdXRwdXRJZCkgewogIGNvbnN0IHN0ZXBzID0gdXBsb2FkRmlsZXNTdGVwKGlucHV0SWQsIG91dHB1dElkKTsKICBjb25zdCBvdXRwdXRFbGVtZW50ID0gZG9jdW1lbnQuZ2V0RWxlbWVudEJ5SWQob3V0cHV0SWQpOwogIC8vIENhY2hlIHN0ZXBzIG9uIHRoZSBvdXRwdXRFbGVtZW50IHRvIG1ha2UgaXQgYXZhaWxhYmxlIGZvciB0aGUgbmV4dCBjYWxsCiAgLy8gdG8gdXBsb2FkRmlsZXNDb250aW51ZSBmcm9tIFB5dGhvbi4KICBvdXRwdXRFbGVtZW50LnN0ZXBzID0gc3RlcHM7CgogIHJldHVybiBfdXBsb2FkRmlsZXNDb250aW51ZShvdXRwdXRJZCk7Cn0KCi8vIFRoaXMgaXMgcm91Z2hseSBhbiBhc3luYyBnZW5lcmF0b3IgKG5vdCBzdXBwb3J0ZWQgaW4gdGhlIGJyb3dzZXIgeWV0KSwKLy8gd2hlcmUgdGhlcmUgYXJlIG11bHRpcGxlIGFzeW5jaHJvbm91cyBzdGVwcyBhbmQgdGhlIFB5dGhvbiBzaWRlIGlzIGdvaW5nCi8vIHRvIHBvbGwgZm9yIGNvbXBsZXRpb24gb2YgZWFjaCBzdGVwLgovLyBUaGlzIHVzZXMgYSBQcm9taXNlIHRvIGJsb2NrIHRoZSBweXRob24gc2lkZSBvbiBjb21wbGV0aW9uIG9mIGVhY2ggc3RlcCwKLy8gdGhlbiBwYXNzZXMgdGhlIHJlc3VsdCBvZiB0aGUgcHJldmlvdXMgc3RlcCBhcyB0aGUgaW5wdXQgdG8gdGhlIG5leHQgc3RlcC4KZnVuY3Rpb24gX3VwbG9hZEZpbGVzQ29udGludWUob3V0cHV0SWQpIHsKICBjb25zdCBvdXRwdXRFbGVtZW50ID0gZG9jdW1lbnQuZ2V0RWxlbWVudEJ5SWQob3V0cHV0SWQpOwogIGNvbnN0IHN0ZXBzID0gb3V0cHV0RWxlbWVudC5zdGVwczsKCiAgY29uc3QgbmV4dCA9IHN0ZXBzLm5leHQob3V0cHV0RWxlbWVudC5sYXN0UHJvbWlzZVZhbHVlKTsKICByZXR1cm4gUHJvbWlzZS5yZXNvbHZlKG5leHQudmFsdWUucHJvbWlzZSkudGhlbigodmFsdWUpID0+IHsKICAgIC8vIENhY2hlIHRoZSBsYXN0IHByb21pc2UgdmFsdWUgdG8gbWFrZSBpdCBhdmFpbGFibGUgdG8gdGhlIG5leHQKICAgIC8vIHN0ZXAgb2YgdGhlIGdlbmVyYXRvci4KICAgIG91dHB1dEVsZW1lbnQubGFzdFByb21pc2VWYWx1ZSA9IHZhbHVlOwogICAgcmV0dXJuIG5leHQudmFsdWUucmVzcG9uc2U7CiAgfSk7Cn0KCi8qKgogKiBHZW5lcmF0b3IgZnVuY3Rpb24gd2hpY2ggaXMgY2FsbGVkIGJldHdlZW4gZWFjaCBhc3luYyBzdGVwIG9mIHRoZSB1cGxvYWQKICogcHJvY2Vzcy4KICogQHBhcmFtIHtzdHJpbmd9IGlucHV0SWQgRWxlbWVudCBJRCBvZiB0aGUgaW5wdXQgZmlsZSBwaWNrZXIgZWxlbWVudC4KICogQHBhcmFtIHtzdHJpbmd9IG91dHB1dElkIEVsZW1lbnQgSUQgb2YgdGhlIG91dHB1dCBkaXNwbGF5LgogKiBAcmV0dXJuIHshSXRlcmFibGU8IU9iamVjdD59IEl0ZXJhYmxlIG9mIG5leHQgc3RlcHMuCiAqLwpmdW5jdGlvbiogdXBsb2FkRmlsZXNTdGVwKGlucHV0SWQsIG91dHB1dElkKSB7CiAgY29uc3QgaW5wdXRFbGVtZW50ID0gZG9jdW1lbnQuZ2V0RWxlbWVudEJ5SWQoaW5wdXRJZCk7CiAgaW5wdXRFbGVtZW50LmRpc2FibGVkID0gZmFsc2U7CgogIGNvbnN0IG91dHB1dEVsZW1lbnQgPSBkb2N1bWVudC5nZXRFbGVtZW50QnlJZChvdXRwdXRJZCk7CiAgb3V0cHV0RWxlbWVudC5pbm5lckhUTUwgPSAnJzsKCiAgY29uc3QgcGlja2VkUHJvbWlzZSA9IG5ldyBQcm9taXNlKChyZXNvbHZlKSA9PiB7CiAgICBpbnB1dEVsZW1lbnQuYWRkRXZlbnRMaXN0ZW5lcignY2hhbmdlJywgKGUpID0+IHsKICAgICAgcmVzb2x2ZShlLnRhcmdldC5maWxlcyk7CiAgICB9KTsKICB9KTsKCiAgY29uc3QgY2FuY2VsID0gZG9jdW1lbnQuY3JlYXRlRWxlbWVudCgnYnV0dG9uJyk7CiAgaW5wdXRFbGVtZW50LnBhcmVudEVsZW1lbnQuYXBwZW5kQ2hpbGQoY2FuY2VsKTsKICBjYW5jZWwudGV4dENvbnRlbnQgPSAnQ2FuY2VsIHVwbG9hZCc7CiAgY29uc3QgY2FuY2VsUHJvbWlzZSA9IG5ldyBQcm9taXNlKChyZXNvbHZlKSA9PiB7CiAgICBjYW5jZWwub25jbGljayA9ICgpID0+IHsKICAgICAgcmVzb2x2ZShudWxsKTsKICAgIH07CiAgfSk7CgogIC8vIENhbmNlbCB1cGxvYWQgaWYgdXNlciBoYXNuJ3QgcGlja2VkIGFueXRoaW5nIGluIHRpbWVvdXQuCiAgY29uc3QgdGltZW91dFByb21pc2UgPSBuZXcgUHJvbWlzZSgocmVzb2x2ZSkgPT4gewogICAgc2V0VGltZW91dCgoKSA9PiB7CiAgICAgIHJlc29sdmUobnVsbCk7CiAgICB9LCBGSUxFX0NIQU5HRV9USU1FT1VUX01TKTsKICB9KTsKCiAgLy8gV2FpdCBmb3IgdGhlIHVzZXIgdG8gcGljayB0aGUgZmlsZXMuCiAgY29uc3QgZmlsZXMgPSB5aWVsZCB7CiAgICBwcm9taXNlOiBQcm9taXNlLnJhY2UoW3BpY2tlZFByb21pc2UsIHRpbWVvdXRQcm9taXNlLCBjYW5jZWxQcm9taXNlXSksCiAgICByZXNwb25zZTogewogICAgICBhY3Rpb246ICdzdGFydGluZycsCiAgICB9CiAgfTsKCiAgaWYgKCFmaWxlcykgewogICAgcmV0dXJuIHsKICAgICAgcmVzcG9uc2U6IHsKICAgICAgICBhY3Rpb246ICdjb21wbGV0ZScsCiAgICAgIH0KICAgIH07CiAgfQoKICBjYW5jZWwucmVtb3ZlKCk7CgogIC8vIERpc2FibGUgdGhlIGlucHV0IGVsZW1lbnQgc2luY2UgZnVydGhlciBwaWNrcyBhcmUgbm90IGFsbG93ZWQuCiAgaW5wdXRFbGVtZW50LmRpc2FibGVkID0gdHJ1ZTsKCiAgZm9yIChjb25zdCBmaWxlIG9mIGZpbGVzKSB7CiAgICBjb25zdCBsaSA9IGRvY3VtZW50LmNyZWF0ZUVsZW1lbnQoJ2xpJyk7CiAgICBsaS5hcHBlbmQoc3BhbihmaWxlLm5hbWUsIHtmb250V2VpZ2h0OiAnYm9sZCd9KSk7CiAgICBsaS5hcHBlbmQoc3BhbigKICAgICAgICBgKCR7ZmlsZS50eXBlIHx8ICduL2EnfSkgLSAke2ZpbGUuc2l6ZX0gYnl0ZXMsIGAgKwogICAgICAgIGBsYXN0IG1vZGlmaWVkOiAkewogICAgICAgICAgICBmaWxlLmxhc3RNb2RpZmllZERhdGUgPyBmaWxlLmxhc3RNb2RpZmllZERhdGUudG9Mb2NhbGVEYXRlU3RyaW5nKCkgOgogICAgICAgICAgICAgICAgICAgICAgICAgICAgICAgICAgICAnbi9hJ30gLSBgKSk7CiAgICBjb25zdCBwZXJjZW50ID0gc3BhbignMCUgZG9uZScpOwogICAgbGkuYXBwZW5kQ2hpbGQocGVyY2VudCk7CgogICAgb3V0cHV0RWxlbWVudC5hcHBlbmRDaGlsZChsaSk7CgogICAgY29uc3QgZmlsZURhdGFQcm9taXNlID0gbmV3IFByb21pc2UoKHJlc29sdmUpID0+IHsKICAgICAgY29uc3QgcmVhZGVyID0gbmV3IEZpbGVSZWFkZXIoKTsKICAgICAgcmVhZGVyLm9ubG9hZCA9IChlKSA9PiB7CiAgICAgICAgcmVzb2x2ZShlLnRhcmdldC5yZXN1bHQpOwogICAgICB9OwogICAgICByZWFkZXIucmVhZEFzQXJyYXlCdWZmZXIoZmlsZSk7CiAgICB9KTsKICAgIC8vIFdhaXQgZm9yIHRoZSBkYXRhIHRvIGJlIHJlYWR5LgogICAgbGV0IGZpbGVEYXRhID0geWllbGQgewogICAgICBwcm9taXNlOiBmaWxlRGF0YVByb21pc2UsCiAgICAgIHJlc3BvbnNlOiB7CiAgICAgICAgYWN0aW9uOiAnY29udGludWUnLAogICAgICB9CiAgICB9OwoKICAgIC8vIFVzZSBhIGNodW5rZWQgc2VuZGluZyB0byBhdm9pZCBtZXNzYWdlIHNpemUgbGltaXRzLiBTZWUgYi82MjExNTY2MC4KICAgIGxldCBwb3NpdGlvbiA9IDA7CiAgICB3aGlsZSAocG9zaXRpb24gPCBmaWxlRGF0YS5ieXRlTGVuZ3RoKSB7CiAgICAgIGNvbnN0IGxlbmd0aCA9IE1hdGgubWluKGZpbGVEYXRhLmJ5dGVMZW5ndGggLSBwb3NpdGlvbiwgTUFYX1BBWUxPQURfU0laRSk7CiAgICAgIGNvbnN0IGNodW5rID0gbmV3IFVpbnQ4QXJyYXkoZmlsZURhdGEsIHBvc2l0aW9uLCBsZW5ndGgpOwogICAgICBwb3NpdGlvbiArPSBsZW5ndGg7CgogICAgICBjb25zdCBiYXNlNjQgPSBidG9hKFN0cmluZy5mcm9tQ2hhckNvZGUuYXBwbHkobnVsbCwgY2h1bmspKTsKICAgICAgeWllbGQgewogICAgICAgIHJlc3BvbnNlOiB7CiAgICAgICAgICBhY3Rpb246ICdhcHBlbmQnLAogICAgICAgICAgZmlsZTogZmlsZS5uYW1lLAogICAgICAgICAgZGF0YTogYmFzZTY0LAogICAgICAgIH0sCiAgICAgIH07CiAgICAgIHBlcmNlbnQudGV4dENvbnRlbnQgPQogICAgICAgICAgYCR7TWF0aC5yb3VuZCgocG9zaXRpb24gLyBmaWxlRGF0YS5ieXRlTGVuZ3RoKSAqIDEwMCl9JSBkb25lYDsKICAgIH0KICB9CgogIC8vIEFsbCBkb25lLgogIHlpZWxkIHsKICAgIHJlc3BvbnNlOiB7CiAgICAgIGFjdGlvbjogJ2NvbXBsZXRlJywKICAgIH0KICB9Owp9CgpzY29wZS5nb29nbGUgPSBzY29wZS5nb29nbGUgfHwge307CnNjb3BlLmdvb2dsZS5jb2xhYiA9IHNjb3BlLmdvb2dsZS5jb2xhYiB8fCB7fTsKc2NvcGUuZ29vZ2xlLmNvbGFiLl9maWxlcyA9IHsKICBfdXBsb2FkRmlsZXMsCiAgX3VwbG9hZEZpbGVzQ29udGludWUsCn07Cn0pKHNlbGYpOwo=",
              "ok": true,
              "headers": [
                [
                  "content-type",
                  "application/javascript"
                ]
              ],
              "status": 200,
              "status_text": ""
            }
          },
          "base_uri": "https://localhost:8080/",
          "height": 74
        }
      },
      "cell_type": "code",
      "source": [
        "\"\"\"from google.colab import files\n",
        "uploaded = files.upload()\"\"\""
      ],
      "execution_count": 22,
      "outputs": [
        {
          "output_type": "display_data",
          "data": {
            "text/html": [
              "\n",
              "     <input type=\"file\" id=\"files-c8d619b1-880d-4aac-8b41-9b6cf6209085\" name=\"files[]\" multiple disabled />\n",
              "     <output id=\"result-c8d619b1-880d-4aac-8b41-9b6cf6209085\">\n",
              "      Upload widget is only available when the cell has been executed in the\n",
              "      current browser session. Please rerun this cell to enable.\n",
              "      </output>\n",
              "      <script src=\"/nbextensions/google.colab/files.js\"></script> "
            ],
            "text/plain": [
              "<IPython.core.display.HTML object>"
            ]
          },
          "metadata": {
            "tags": []
          }
        },
        {
          "output_type": "stream",
          "text": [
            "Saving Election_Donor_Data.csv to Election_Donor_Data.csv\n"
          ],
          "name": "stdout"
        }
      ]
    },
    {
      "metadata": {
        "id": "jIaXVPCvYUGt",
        "colab_type": "code",
        "outputId": "61876787-56a3-4b9f-c825-be179b2e6660",
        "colab": {
          "base_uri": "https://localhost:8080/",
          "height": 326
        }
      },
      "cell_type": "code",
      "source": [
        "donor_df = pd.read_csv('Election_Donor_Data.csv', low_memory=False)\n",
        "donor_df.head()"
      ],
      "execution_count": 23,
      "outputs": [
        {
          "output_type": "execute_result",
          "data": {
            "text/html": [
              "<div>\n",
              "<style scoped>\n",
              "    .dataframe tbody tr th:only-of-type {\n",
              "        vertical-align: middle;\n",
              "    }\n",
              "\n",
              "    .dataframe tbody tr th {\n",
              "        vertical-align: top;\n",
              "    }\n",
              "\n",
              "    .dataframe thead th {\n",
              "        text-align: right;\n",
              "    }\n",
              "</style>\n",
              "<table border=\"1\" class=\"dataframe\">\n",
              "  <thead>\n",
              "    <tr style=\"text-align: right;\">\n",
              "      <th></th>\n",
              "      <th>cmte_id</th>\n",
              "      <th>cand_id</th>\n",
              "      <th>cand_nm</th>\n",
              "      <th>contbr_nm</th>\n",
              "      <th>contbr_city</th>\n",
              "      <th>contbr_st</th>\n",
              "      <th>contbr_zip</th>\n",
              "      <th>contbr_employer</th>\n",
              "      <th>contbr_occupation</th>\n",
              "      <th>contb_receipt_amt</th>\n",
              "      <th>contb_receipt_dt</th>\n",
              "      <th>receipt_desc</th>\n",
              "      <th>memo_cd</th>\n",
              "      <th>memo_text</th>\n",
              "      <th>form_tp</th>\n",
              "      <th>file_num</th>\n",
              "    </tr>\n",
              "  </thead>\n",
              "  <tbody>\n",
              "    <tr>\n",
              "      <th>0</th>\n",
              "      <td>C00410118</td>\n",
              "      <td>P20002978</td>\n",
              "      <td>Bachmann, Michelle</td>\n",
              "      <td>HARVEY, WILLIAM</td>\n",
              "      <td>MOBILE</td>\n",
              "      <td>AL</td>\n",
              "      <td>366010290</td>\n",
              "      <td>RETIRED</td>\n",
              "      <td>RETIRED</td>\n",
              "      <td>250.0</td>\n",
              "      <td>20-JUN-11</td>\n",
              "      <td>NaN</td>\n",
              "      <td>NaN</td>\n",
              "      <td>NaN</td>\n",
              "      <td>SA17A</td>\n",
              "      <td>736166</td>\n",
              "    </tr>\n",
              "    <tr>\n",
              "      <th>1</th>\n",
              "      <td>C00410118</td>\n",
              "      <td>P20002978</td>\n",
              "      <td>Bachmann, Michelle</td>\n",
              "      <td>HARVEY, WILLIAM</td>\n",
              "      <td>MOBILE</td>\n",
              "      <td>AL</td>\n",
              "      <td>366010290</td>\n",
              "      <td>RETIRED</td>\n",
              "      <td>RETIRED</td>\n",
              "      <td>50.0</td>\n",
              "      <td>23-JUN-11</td>\n",
              "      <td>NaN</td>\n",
              "      <td>NaN</td>\n",
              "      <td>NaN</td>\n",
              "      <td>SA17A</td>\n",
              "      <td>736166</td>\n",
              "    </tr>\n",
              "    <tr>\n",
              "      <th>2</th>\n",
              "      <td>C00410118</td>\n",
              "      <td>P20002978</td>\n",
              "      <td>Bachmann, Michelle</td>\n",
              "      <td>SMITH, LANIER</td>\n",
              "      <td>LANETT</td>\n",
              "      <td>AL</td>\n",
              "      <td>368633403</td>\n",
              "      <td>INFORMATION REQUESTED</td>\n",
              "      <td>INFORMATION REQUESTED</td>\n",
              "      <td>250.0</td>\n",
              "      <td>05-JUL-11</td>\n",
              "      <td>NaN</td>\n",
              "      <td>NaN</td>\n",
              "      <td>NaN</td>\n",
              "      <td>SA17A</td>\n",
              "      <td>749073</td>\n",
              "    </tr>\n",
              "    <tr>\n",
              "      <th>3</th>\n",
              "      <td>C00410118</td>\n",
              "      <td>P20002978</td>\n",
              "      <td>Bachmann, Michelle</td>\n",
              "      <td>BLEVINS, DARONDA</td>\n",
              "      <td>PIGGOTT</td>\n",
              "      <td>AR</td>\n",
              "      <td>724548253</td>\n",
              "      <td>NONE</td>\n",
              "      <td>RETIRED</td>\n",
              "      <td>250.0</td>\n",
              "      <td>01-AUG-11</td>\n",
              "      <td>NaN</td>\n",
              "      <td>NaN</td>\n",
              "      <td>NaN</td>\n",
              "      <td>SA17A</td>\n",
              "      <td>749073</td>\n",
              "    </tr>\n",
              "    <tr>\n",
              "      <th>4</th>\n",
              "      <td>C00410118</td>\n",
              "      <td>P20002978</td>\n",
              "      <td>Bachmann, Michelle</td>\n",
              "      <td>WARDENBURG, HAROLD</td>\n",
              "      <td>HOT SPRINGS NATION</td>\n",
              "      <td>AR</td>\n",
              "      <td>719016467</td>\n",
              "      <td>NONE</td>\n",
              "      <td>RETIRED</td>\n",
              "      <td>300.0</td>\n",
              "      <td>20-JUN-11</td>\n",
              "      <td>NaN</td>\n",
              "      <td>NaN</td>\n",
              "      <td>NaN</td>\n",
              "      <td>SA17A</td>\n",
              "      <td>736166</td>\n",
              "    </tr>\n",
              "  </tbody>\n",
              "</table>\n",
              "</div>"
            ],
            "text/plain": [
              "     cmte_id    cand_id             cand_nm           contbr_nm  \\\n",
              "0  C00410118  P20002978  Bachmann, Michelle     HARVEY, WILLIAM   \n",
              "1  C00410118  P20002978  Bachmann, Michelle     HARVEY, WILLIAM   \n",
              "2  C00410118  P20002978  Bachmann, Michelle       SMITH, LANIER   \n",
              "3  C00410118  P20002978  Bachmann, Michelle    BLEVINS, DARONDA   \n",
              "4  C00410118  P20002978  Bachmann, Michelle  WARDENBURG, HAROLD   \n",
              "\n",
              "          contbr_city contbr_st contbr_zip        contbr_employer  \\\n",
              "0              MOBILE        AL  366010290                RETIRED   \n",
              "1              MOBILE        AL  366010290                RETIRED   \n",
              "2              LANETT        AL  368633403  INFORMATION REQUESTED   \n",
              "3             PIGGOTT        AR  724548253                   NONE   \n",
              "4  HOT SPRINGS NATION        AR  719016467                   NONE   \n",
              "\n",
              "       contbr_occupation  contb_receipt_amt contb_receipt_dt receipt_desc  \\\n",
              "0                RETIRED              250.0        20-JUN-11          NaN   \n",
              "1                RETIRED               50.0        23-JUN-11          NaN   \n",
              "2  INFORMATION REQUESTED              250.0        05-JUL-11          NaN   \n",
              "3                RETIRED              250.0        01-AUG-11          NaN   \n",
              "4                RETIRED              300.0        20-JUN-11          NaN   \n",
              "\n",
              "  memo_cd memo_text form_tp  file_num  \n",
              "0     NaN       NaN   SA17A    736166  \n",
              "1     NaN       NaN   SA17A    736166  \n",
              "2     NaN       NaN   SA17A    749073  \n",
              "3     NaN       NaN   SA17A    749073  \n",
              "4     NaN       NaN   SA17A    736166  "
            ]
          },
          "metadata": {
            "tags": []
          },
          "execution_count": 23
        }
      ]
    },
    {
      "metadata": {
        "id": "pWG3CPdd52Nr",
        "colab_type": "code",
        "outputId": "9fcc7aff-c81a-45e6-c9ff-45b5e17978fe",
        "colab": {
          "base_uri": "https://localhost:8080/",
          "height": 374
        }
      },
      "cell_type": "code",
      "source": [
        "donor_df.info()"
      ],
      "execution_count": 24,
      "outputs": [
        {
          "output_type": "stream",
          "text": [
            "<class 'pandas.core.frame.DataFrame'>\n",
            "RangeIndex: 1001731 entries, 0 to 1001730\n",
            "Data columns (total 16 columns):\n",
            "cmte_id              1001731 non-null object\n",
            "cand_id              1001731 non-null object\n",
            "cand_nm              1001731 non-null object\n",
            "contbr_nm            1001731 non-null object\n",
            "contbr_city          1001712 non-null object\n",
            "contbr_st            1001727 non-null object\n",
            "contbr_zip           1001620 non-null object\n",
            "contbr_employer      988002 non-null object\n",
            "contbr_occupation    993301 non-null object\n",
            "contb_receipt_amt    1001731 non-null float64\n",
            "contb_receipt_dt     1001731 non-null object\n",
            "receipt_desc         14166 non-null object\n",
            "memo_cd              92482 non-null object\n",
            "memo_text            97770 non-null object\n",
            "form_tp              1001731 non-null object\n",
            "file_num             1001731 non-null int64\n",
            "dtypes: float64(1), int64(1), object(14)\n",
            "memory usage: 122.3+ MB\n"
          ],
          "name": "stdout"
        }
      ]
    },
    {
      "metadata": {
        "id": "UHMV8DkLAnw7",
        "colab_type": "text"
      },
      "cell_type": "markdown",
      "source": [
        "Get a quick glimpse of the donation amounts, and the average donation amount"
      ]
    },
    {
      "metadata": {
        "id": "ayNpCoN3AVor",
        "colab_type": "code",
        "outputId": "69df5734-350f-482d-8d0c-6de1cde85369",
        "colab": {
          "base_uri": "https://localhost:8080/",
          "height": 1071
        }
      },
      "cell_type": "code",
      "source": [
        "# contb_receipt_amt -> contributor receipt amount\n",
        "donor_df['contb_receipt_amt'].value_counts()"
      ],
      "execution_count": 25,
      "outputs": [
        {
          "output_type": "execute_result",
          "data": {
            "text/plain": [
              " 100.00     178188\n",
              " 50.00      137584\n",
              " 25.00      110345\n",
              " 250.00      91182\n",
              " 500.00      57984\n",
              " 2500.00     49005\n",
              " 35.00       37237\n",
              " 1000.00     36494\n",
              " 10.00       33986\n",
              " 200.00      27813\n",
              " 20.00       17565\n",
              " 15.00       16163\n",
              " 150.00      14600\n",
              " 75.00       13647\n",
              " 201.20      11718\n",
              " 30.00       11381\n",
              " 300.00      11204\n",
              " 20.12        9897\n",
              " 5.00         9024\n",
              " 40.00        5007\n",
              " 2000.00      4128\n",
              " 55.00        3760\n",
              " 1500.00      3705\n",
              " 3.00         3383\n",
              " 60.00        3084\n",
              " 400.00       3066\n",
              "-2500.00      2727\n",
              " 110.00       2554\n",
              " 125.00       2520\n",
              " 19.00        2474\n",
              "             ...  \n",
              " 174.80          1\n",
              " 7.27            1\n",
              " 1219.00         1\n",
              " 1884.88         1\n",
              " 162.25          1\n",
              " 218.31          1\n",
              " 78.62           1\n",
              " 203.16          1\n",
              " 53.11           1\n",
              " 499.66          1\n",
              " 19.53           1\n",
              " 188.60          1\n",
              " 47.10           1\n",
              " 19.85           1\n",
              " 28.83           1\n",
              " 202.59          1\n",
              "-5500.00         1\n",
              " 9.25            1\n",
              " 202.66          1\n",
              " 1205.00         1\n",
              " 80.73           1\n",
              " 115.07          1\n",
              " 213.69          1\n",
              " 70.76           1\n",
              " 144.13          1\n",
              " 97.15           1\n",
              " 122.32          1\n",
              " 188.65          1\n",
              " 122.40          1\n",
              " 132.12          1\n",
              "Name: contb_receipt_amt, Length: 8079, dtype: int64"
            ]
          },
          "metadata": {
            "tags": []
          },
          "execution_count": 25
        }
      ]
    },
    {
      "metadata": {
        "id": "NbY-gBJaA3Xm",
        "colab_type": "text"
      },
      "cell_type": "markdown",
      "source": [
        "**value_counts** basically counts how many times each unique value occurs. This means most common donation was 100$ donation. 178188 people donate 100 dolars. In total, there are 8079 different amounts. "
      ]
    },
    {
      "metadata": {
        "id": "NeAL2t8NA8HD",
        "colab_type": "code",
        "outputId": "908607df-44dd-4c49-e03f-ba1837c9d4f6",
        "colab": {
          "base_uri": "https://localhost:8080/",
          "height": 34
        }
      },
      "cell_type": "code",
      "source": [
        "don_mean = donor_df['contb_receipt_amt'].mean()\n",
        "don_std = donor_df['contb_receipt_amt'].std()\n",
        "print('The average donation was %.2f with a std of %.2f' %(don_mean, don_std))"
      ],
      "execution_count": 26,
      "outputs": [
        {
          "output_type": "stream",
          "text": [
            "The average donation was 298.24 with a std of 3749.67\n"
          ],
          "name": "stdout"
        }
      ]
    },
    {
      "metadata": {
        "id": "X-DMAUOjBNaa",
        "colab_type": "text"
      },
      "cell_type": "markdown",
      "source": [
        "**3749.67** is a huge standard deviation. Let's see if there are any large donations or other factors messing with the distribution of the donations."
      ]
    },
    {
      "metadata": {
        "id": "sWba565TBBqj",
        "colab_type": "code",
        "outputId": "9fc5d22a-e391-42d9-9cb7-f4780d8a189d",
        "colab": {
          "base_uri": "https://localhost:8080/",
          "height": 1071
        }
      },
      "cell_type": "code",
      "source": [
        "top_donor = donor_df['contb_receipt_amt'].copy()\n",
        "top_donor.sort_values(ascending=True)"
      ],
      "execution_count": 27,
      "outputs": [
        {
          "output_type": "execute_result",
          "data": {
            "text/plain": [
              "114604     -30800.00\n",
              "226986     -25800.00\n",
              "101356      -7500.00\n",
              "398429      -5500.00\n",
              "250737      -5455.00\n",
              "33821       -5414.31\n",
              "908565      -5115.00\n",
              "456649      -5000.00\n",
              "574657      -5000.00\n",
              "30513       -5000.00\n",
              "562267      -5000.00\n",
              "30584       -5000.00\n",
              "86268       -5000.00\n",
              "708920      -5000.00\n",
              "665887      -5000.00\n",
              "708899      -5000.00\n",
              "708929      -5000.00\n",
              "21172       -5000.00\n",
              "21168       -5000.00\n",
              "21167       -5000.00\n",
              "262328      -5000.00\n",
              "946875      -5000.00\n",
              "7361        -5000.00\n",
              "416403      -5000.00\n",
              "21164       -5000.00\n",
              "707945      -5000.00\n",
              "615101      -5000.00\n",
              "7973        -5000.00\n",
              "54430       -5000.00\n",
              "54434       -5000.00\n",
              "             ...    \n",
              "708022      10000.00\n",
              "708898      10000.00\n",
              "710177      10000.00\n",
              "876244      10000.00\n",
              "709608      10000.00\n",
              "708919      10000.00\n",
              "709739      10000.00\n",
              "91145       10000.00\n",
              "708138      10000.00\n",
              "993178      10000.00\n",
              "709813      10000.00\n",
              "710730      10000.00\n",
              "708928      10000.00\n",
              "709268      10000.00\n",
              "99829       10000.00\n",
              "90076       10000.00\n",
              "709859      10000.00\n",
              "41888       10000.00\n",
              "65131       12700.00\n",
              "834301      25000.00\n",
              "823345      25000.00\n",
              "217891      25800.00\n",
              "114754      33300.00\n",
              "257270     451726.00\n",
              "335187     512710.91\n",
              "319478     526246.17\n",
              "344419    1511192.17\n",
              "344539    1679114.65\n",
              "326651    1944042.43\n",
              "325136    2014490.51\n",
              "Name: contb_receipt_amt, Length: 1001731, dtype: float64"
            ]
          },
          "metadata": {
            "tags": []
          },
          "execution_count": 27
        }
      ]
    },
    {
      "metadata": {
        "id": "b8yHGE2YB0Y8",
        "colab_type": "text"
      },
      "cell_type": "markdown",
      "source": [
        "Looks like we have some negative values, as well as some huge donation amounts. The negative values are due to the FEC (Federal Election Commission) recording refunds as well as donations, let's go ahead and only look at the positive contribution amounts."
      ]
    },
    {
      "metadata": {
        "id": "gf_gaK0YBohI",
        "colab_type": "code",
        "outputId": "fef639a7-19a0-4e0c-f024-0503c3a30540",
        "colab": {
          "base_uri": "https://localhost:8080/",
          "height": 204
        }
      },
      "cell_type": "code",
      "source": [
        "# get rid of the negative values\n",
        "top_donor = top_donor[top_donor > 0]\n",
        "top_donor.sort_values(ascending=True).value_counts().head(10)"
      ],
      "execution_count": 28,
      "outputs": [
        {
          "output_type": "execute_result",
          "data": {
            "text/plain": [
              "100.0     178188\n",
              "50.0      137584\n",
              "25.0      110345\n",
              "250.0      91182\n",
              "500.0      57984\n",
              "2500.0     49005\n",
              "35.0       37237\n",
              "1000.0     36494\n",
              "10.0       33986\n",
              "200.0      27813\n",
              "Name: contb_receipt_amt, dtype: int64"
            ]
          },
          "metadata": {
            "tags": []
          },
          "execution_count": 28
        }
      ]
    },
    {
      "metadata": {
        "id": "AFYLPLjVB8-5",
        "colab_type": "text"
      },
      "cell_type": "markdown",
      "source": [
        "10 most common donations ranged from 10 to 2500 dollars. A quick question we could verify is if donations are usually made in round number amounts? (e.g. 10,20,50,100,500 etc.) We can quickly visualize this by making a histogram and checking for peaks at those values. Let's go ahead and do this for the most common amounts, up to 2500 dollars."
      ]
    },
    {
      "metadata": {
        "id": "Xo7yQpueB6LJ",
        "colab_type": "code",
        "outputId": "364b7bea-2ac8-4081-95cc-8e374068a8d2",
        "colab": {
          "base_uri": "https://localhost:8080/",
          "height": 500
        }
      },
      "cell_type": "code",
      "source": [
        "com_don = top_donor[top_donor <= 2500]\n",
        "com_don.hist(bins=100, figsize=(15,8))"
      ],
      "execution_count": 29,
      "outputs": [
        {
          "output_type": "execute_result",
          "data": {
            "text/plain": [
              "<matplotlib.axes._subplots.AxesSubplot at 0x7f26fcddd278>"
            ]
          },
          "metadata": {
            "tags": []
          },
          "execution_count": 29
        },
        {
          "output_type": "display_data",
          "data": {
            "image/png": "[encoded data removed]",
            "text/plain": [
              "<Figure size 1080x576 with 1 Axes>"
            ]
          },
          "metadata": {
            "tags": []
          }
        }
      ]
    },
    {
      "metadata": {
        "id": "o5-jYAt1IJLA",
        "colab_type": "text"
      },
      "cell_type": "markdown",
      "source": [
        "Let's dive deeper into the data and see if we can seperate donations by Party, in order to do this we'll have to figure out a way of creating a new 'Party' column. We can do this by starting with the candidates and their affliliation. Now let's go ahead and get a list of candidates."
      ]
    },
    {
      "metadata": {
        "id": "7YucV_MyILPK",
        "colab_type": "code",
        "outputId": "2a6036ca-c6a5-4bdc-af75-401d05809308",
        "colab": {
          "base_uri": "https://localhost:8080/",
          "height": 102
        }
      },
      "cell_type": "code",
      "source": [
        "# grab the unique object from the candidate column\n",
        "# cand_nm -> candidate name\n",
        "candidates = donor_df.cand_nm.unique()\n",
        "candidates"
      ],
      "execution_count": 30,
      "outputs": [
        {
          "output_type": "execute_result",
          "data": {
            "text/plain": [
              "array(['Bachmann, Michelle', 'Romney, Mitt', 'Obama, Barack',\n",
              "       \"Roemer, Charles E. 'Buddy' III\", 'Pawlenty, Timothy',\n",
              "       'Johnson, Gary Earl', 'Paul, Ron', 'Santorum, Rick',\n",
              "       'Cain, Herman', 'Gingrich, Newt', 'McCotter, Thaddeus G',\n",
              "       'Huntsman, Jon', 'Perry, Rick'], dtype=object)"
            ]
          },
          "metadata": {
            "tags": []
          },
          "execution_count": 30
        }
      ]
    },
    {
      "metadata": {
        "id": "9iRwrw-7IMca",
        "colab_type": "code",
        "colab": {}
      },
      "cell_type": "code",
      "source": [
        "# Dictionary of party affiliation\n",
        "party_map = {'Bachmann, Michelle': 'Republican',\n",
        "           'Cain, Herman': 'Republican',\n",
        "           'Gingrich, Newt': 'Republican',\n",
        "           'Huntsman, Jon': 'Republican',\n",
        "           'Johnson, Gary Earl': 'Republican',\n",
        "           'McCotter, Thaddeus G': 'Republican',\n",
        "           'Obama, Barack': 'Democrat',\n",
        "           'Paul, Ron': 'Republican',\n",
        "           'Pawlenty, Timothy': 'Republican',\n",
        "           'Perry, Rick': 'Republican',\n",
        "           \"Roemer, Charles E. 'Buddy' III\": 'Republican',\n",
        "           'Romney, Mitt': 'Republican',\n",
        "           'Santorum, Rick': 'Republican'}\n",
        "\n",
        "# Now map the party with candidate\n",
        "donor_df['Party'] = donor_df.cand_nm.map(party_map)"
      ],
      "execution_count": 0,
      "outputs": []
    },
    {
      "metadata": {
        "id": "_fc2zrObOOdp",
        "colab_type": "code",
        "outputId": "1442032a-0d54-4954-da77-184f2a431403",
        "colab": {
          "base_uri": "https://localhost:8080/",
          "height": 390
        }
      },
      "cell_type": "code",
      "source": [
        "donor_df[['cand_nm','Party']][1:1001731:100000]"
      ],
      "execution_count": 32,
      "outputs": [
        {
          "output_type": "execute_result",
          "data": {
            "text/html": [
              "<div>\n",
              "<style scoped>\n",
              "    .dataframe tbody tr th:only-of-type {\n",
              "        vertical-align: middle;\n",
              "    }\n",
              "\n",
              "    .dataframe tbody tr th {\n",
              "        vertical-align: top;\n",
              "    }\n",
              "\n",
              "    .dataframe thead th {\n",
              "        text-align: right;\n",
              "    }\n",
              "</style>\n",
              "<table border=\"1\" class=\"dataframe\">\n",
              "  <thead>\n",
              "    <tr style=\"text-align: right;\">\n",
              "      <th></th>\n",
              "      <th>cand_nm</th>\n",
              "      <th>Party</th>\n",
              "    </tr>\n",
              "  </thead>\n",
              "  <tbody>\n",
              "    <tr>\n",
              "      <th>1</th>\n",
              "      <td>Bachmann, Michelle</td>\n",
              "      <td>Republican</td>\n",
              "    </tr>\n",
              "    <tr>\n",
              "      <th>100001</th>\n",
              "      <td>Romney, Mitt</td>\n",
              "      <td>Republican</td>\n",
              "    </tr>\n",
              "    <tr>\n",
              "      <th>200001</th>\n",
              "      <td>Obama, Barack</td>\n",
              "      <td>Democrat</td>\n",
              "    </tr>\n",
              "    <tr>\n",
              "      <th>300001</th>\n",
              "      <td>Obama, Barack</td>\n",
              "      <td>Democrat</td>\n",
              "    </tr>\n",
              "    <tr>\n",
              "      <th>400001</th>\n",
              "      <td>Obama, Barack</td>\n",
              "      <td>Democrat</td>\n",
              "    </tr>\n",
              "    <tr>\n",
              "      <th>500001</th>\n",
              "      <td>Obama, Barack</td>\n",
              "      <td>Democrat</td>\n",
              "    </tr>\n",
              "    <tr>\n",
              "      <th>600001</th>\n",
              "      <td>Obama, Barack</td>\n",
              "      <td>Democrat</td>\n",
              "    </tr>\n",
              "    <tr>\n",
              "      <th>700001</th>\n",
              "      <td>Obama, Barack</td>\n",
              "      <td>Democrat</td>\n",
              "    </tr>\n",
              "    <tr>\n",
              "      <th>800001</th>\n",
              "      <td>Paul, Ron</td>\n",
              "      <td>Republican</td>\n",
              "    </tr>\n",
              "    <tr>\n",
              "      <th>900001</th>\n",
              "      <td>Santorum, Rick</td>\n",
              "      <td>Republican</td>\n",
              "    </tr>\n",
              "    <tr>\n",
              "      <th>1000001</th>\n",
              "      <td>Perry, Rick</td>\n",
              "      <td>Republican</td>\n",
              "    </tr>\n",
              "  </tbody>\n",
              "</table>\n",
              "</div>"
            ],
            "text/plain": [
              "                    cand_nm       Party\n",
              "1        Bachmann, Michelle  Republican\n",
              "100001         Romney, Mitt  Republican\n",
              "200001        Obama, Barack    Democrat\n",
              "300001        Obama, Barack    Democrat\n",
              "400001        Obama, Barack    Democrat\n",
              "500001        Obama, Barack    Democrat\n",
              "600001        Obama, Barack    Democrat\n",
              "700001        Obama, Barack    Democrat\n",
              "800001            Paul, Ron  Republican\n",
              "900001       Santorum, Rick  Republican\n",
              "1000001         Perry, Rick  Republican"
            ]
          },
          "metadata": {
            "tags": []
          },
          "execution_count": 32
        }
      ]
    },
    {
      "metadata": {
        "id": "K9qZ4HY5EcKI",
        "colab_type": "text"
      },
      "cell_type": "markdown",
      "source": [
        "Let's look at our DataFrame and also make sure we clear refunds from the contribution amounts."
      ]
    },
    {
      "metadata": {
        "id": "6ZdnNzEXOQLg",
        "colab_type": "code",
        "colab": {
          "base_uri": "https://localhost:8080/",
          "height": 326
        },
        "outputId": "d773cf17-a71c-4f5d-8cf2-ba2f1c669b7e"
      },
      "cell_type": "code",
      "source": [
        "# contb_receipt_amt -> contribution receipt amount\n",
        "# clear refunds\n",
        "donor_df = donor_df[donor_df.contb_receipt_amt > 0]\n",
        "donor_df.head(5)"
      ],
      "execution_count": 33,
      "outputs": [
        {
          "output_type": "execute_result",
          "data": {
            "text/html": [
              "<div>\n",
              "<style scoped>\n",
              "    .dataframe tbody tr th:only-of-type {\n",
              "        vertical-align: middle;\n",
              "    }\n",
              "\n",
              "    .dataframe tbody tr th {\n",
              "        vertical-align: top;\n",
              "    }\n",
              "\n",
              "    .dataframe thead th {\n",
              "        text-align: right;\n",
              "    }\n",
              "</style>\n",
              "<table border=\"1\" class=\"dataframe\">\n",
              "  <thead>\n",
              "    <tr style=\"text-align: right;\">\n",
              "      <th></th>\n",
              "      <th>cmte_id</th>\n",
              "      <th>cand_id</th>\n",
              "      <th>cand_nm</th>\n",
              "      <th>contbr_nm</th>\n",
              "      <th>contbr_city</th>\n",
              "      <th>contbr_st</th>\n",
              "      <th>contbr_zip</th>\n",
              "      <th>contbr_employer</th>\n",
              "      <th>contbr_occupation</th>\n",
              "      <th>contb_receipt_amt</th>\n",
              "      <th>contb_receipt_dt</th>\n",
              "      <th>receipt_desc</th>\n",
              "      <th>memo_cd</th>\n",
              "      <th>memo_text</th>\n",
              "      <th>form_tp</th>\n",
              "      <th>file_num</th>\n",
              "      <th>Party</th>\n",
              "    </tr>\n",
              "  </thead>\n",
              "  <tbody>\n",
              "    <tr>\n",
              "      <th>0</th>\n",
              "      <td>C00410118</td>\n",
              "      <td>P20002978</td>\n",
              "      <td>Bachmann, Michelle</td>\n",
              "      <td>HARVEY, WILLIAM</td>\n",
              "      <td>MOBILE</td>\n",
              "      <td>AL</td>\n",
              "      <td>366010290</td>\n",
              "      <td>RETIRED</td>\n",
              "      <td>RETIRED</td>\n",
              "      <td>250.0</td>\n",
              "      <td>20-JUN-11</td>\n",
              "      <td>NaN</td>\n",
              "      <td>NaN</td>\n",
              "      <td>NaN</td>\n",
              "      <td>SA17A</td>\n",
              "      <td>736166</td>\n",
              "      <td>Republican</td>\n",
              "    </tr>\n",
              "    <tr>\n",
              "      <th>1</th>\n",
              "      <td>C00410118</td>\n",
              "      <td>P20002978</td>\n",
              "      <td>Bachmann, Michelle</td>\n",
              "      <td>HARVEY, WILLIAM</td>\n",
              "      <td>MOBILE</td>\n",
              "      <td>AL</td>\n",
              "      <td>366010290</td>\n",
              "      <td>RETIRED</td>\n",
              "      <td>RETIRED</td>\n",
              "      <td>50.0</td>\n",
              "      <td>23-JUN-11</td>\n",
              "      <td>NaN</td>\n",
              "      <td>NaN</td>\n",
              "      <td>NaN</td>\n",
              "      <td>SA17A</td>\n",
              "      <td>736166</td>\n",
              "      <td>Republican</td>\n",
              "    </tr>\n",
              "    <tr>\n",
              "      <th>2</th>\n",
              "      <td>C00410118</td>\n",
              "      <td>P20002978</td>\n",
              "      <td>Bachmann, Michelle</td>\n",
              "      <td>SMITH, LANIER</td>\n",
              "      <td>LANETT</td>\n",
              "      <td>AL</td>\n",
              "      <td>368633403</td>\n",
              "      <td>INFORMATION REQUESTED</td>\n",
              "      <td>INFORMATION REQUESTED</td>\n",
              "      <td>250.0</td>\n",
              "      <td>05-JUL-11</td>\n",
              "      <td>NaN</td>\n",
              "      <td>NaN</td>\n",
              "      <td>NaN</td>\n",
              "      <td>SA17A</td>\n",
              "      <td>749073</td>\n",
              "      <td>Republican</td>\n",
              "    </tr>\n",
              "    <tr>\n",
              "      <th>3</th>\n",
              "      <td>C00410118</td>\n",
              "      <td>P20002978</td>\n",
              "      <td>Bachmann, Michelle</td>\n",
              "      <td>BLEVINS, DARONDA</td>\n",
              "      <td>PIGGOTT</td>\n",
              "      <td>AR</td>\n",
              "      <td>724548253</td>\n",
              "      <td>NONE</td>\n",
              "      <td>RETIRED</td>\n",
              "      <td>250.0</td>\n",
              "      <td>01-AUG-11</td>\n",
              "      <td>NaN</td>\n",
              "      <td>NaN</td>\n",
              "      <td>NaN</td>\n",
              "      <td>SA17A</td>\n",
              "      <td>749073</td>\n",
              "      <td>Republican</td>\n",
              "    </tr>\n",
              "    <tr>\n",
              "      <th>4</th>\n",
              "      <td>C00410118</td>\n",
              "      <td>P20002978</td>\n",
              "      <td>Bachmann, Michelle</td>\n",
              "      <td>WARDENBURG, HAROLD</td>\n",
              "      <td>HOT SPRINGS NATION</td>\n",
              "      <td>AR</td>\n",
              "      <td>719016467</td>\n",
              "      <td>NONE</td>\n",
              "      <td>RETIRED</td>\n",
              "      <td>300.0</td>\n",
              "      <td>20-JUN-11</td>\n",
              "      <td>NaN</td>\n",
              "      <td>NaN</td>\n",
              "      <td>NaN</td>\n",
              "      <td>SA17A</td>\n",
              "      <td>736166</td>\n",
              "      <td>Republican</td>\n",
              "    </tr>\n",
              "  </tbody>\n",
              "</table>\n",
              "</div>"
            ],
            "text/plain": [
              "     cmte_id    cand_id             cand_nm           contbr_nm  \\\n",
              "0  C00410118  P20002978  Bachmann, Michelle     HARVEY, WILLIAM   \n",
              "1  C00410118  P20002978  Bachmann, Michelle     HARVEY, WILLIAM   \n",
              "2  C00410118  P20002978  Bachmann, Michelle       SMITH, LANIER   \n",
              "3  C00410118  P20002978  Bachmann, Michelle    BLEVINS, DARONDA   \n",
              "4  C00410118  P20002978  Bachmann, Michelle  WARDENBURG, HAROLD   \n",
              "\n",
              "          contbr_city contbr_st contbr_zip        contbr_employer  \\\n",
              "0              MOBILE        AL  366010290                RETIRED   \n",
              "1              MOBILE        AL  366010290                RETIRED   \n",
              "2              LANETT        AL  368633403  INFORMATION REQUESTED   \n",
              "3             PIGGOTT        AR  724548253                   NONE   \n",
              "4  HOT SPRINGS NATION        AR  719016467                   NONE   \n",
              "\n",
              "       contbr_occupation  contb_receipt_amt contb_receipt_dt receipt_desc  \\\n",
              "0                RETIRED              250.0        20-JUN-11          NaN   \n",
              "1                RETIRED               50.0        23-JUN-11          NaN   \n",
              "2  INFORMATION REQUESTED              250.0        05-JUL-11          NaN   \n",
              "3                RETIRED              250.0        01-AUG-11          NaN   \n",
              "4                RETIRED              300.0        20-JUN-11          NaN   \n",
              "\n",
              "  memo_cd memo_text form_tp  file_num       Party  \n",
              "0     NaN       NaN   SA17A    736166  Republican  \n",
              "1     NaN       NaN   SA17A    736166  Republican  \n",
              "2     NaN       NaN   SA17A    749073  Republican  \n",
              "3     NaN       NaN   SA17A    749073  Republican  \n",
              "4     NaN       NaN   SA17A    736166  Republican  "
            ]
          },
          "metadata": {
            "tags": []
          },
          "execution_count": 33
        }
      ]
    },
    {
      "metadata": {
        "id": "-Q2Plpw4EhUy",
        "colab_type": "text"
      },
      "cell_type": "markdown",
      "source": [
        "Let's start by aggregating the data by candidate. We'll take a quick look a the total amounts received by each candidate. First we will look at the total number of donations and then at the total amount."
      ]
    },
    {
      "metadata": {
        "id": "ESqp5_6PEh9p",
        "colab_type": "code",
        "colab": {
          "base_uri": "https://localhost:8080/",
          "height": 272
        },
        "outputId": "063802ea-f28a-42b1-be17-d36b7a76b180"
      },
      "cell_type": "code",
      "source": [
        "# Group dataframe by candidate name and then display contb_receipt_amt column\n",
        "# and count the total number of contribution\n",
        "donor_df.groupby('cand_nm')['contb_receipt_amt'].count()"
      ],
      "execution_count": 34,
      "outputs": [
        {
          "output_type": "execute_result",
          "data": {
            "text/plain": [
              "cand_nm\n",
              "Bachmann, Michelle                 13082\n",
              "Cain, Herman                       20052\n",
              "Gingrich, Newt                     46883\n",
              "Huntsman, Jon                       4066\n",
              "Johnson, Gary Earl                  1234\n",
              "McCotter, Thaddeus G                  73\n",
              "Obama, Barack                     589127\n",
              "Paul, Ron                         143161\n",
              "Pawlenty, Timothy                   3844\n",
              "Perry, Rick                        12709\n",
              "Roemer, Charles E. 'Buddy' III      5844\n",
              "Romney, Mitt                      105155\n",
              "Santorum, Rick                     46245\n",
              "Name: contb_receipt_amt, dtype: int64"
            ]
          },
          "metadata": {
            "tags": []
          },
          "execution_count": 34
        }
      ]
    },
    {
      "metadata": {
        "id": "diEQb81DEncr",
        "colab_type": "text"
      },
      "cell_type": "markdown",
      "source": [
        "Obama is the front-runner in number of people donating, since he is not competeing with any other democratic nominees. Let's take a look at the total dollar amounts."
      ]
    },
    {
      "metadata": {
        "id": "afOsS-ZxErox",
        "colab_type": "code",
        "colab": {
          "base_uri": "https://localhost:8080/",
          "height": 760
        },
        "outputId": "9d6b36cd-aeb3-4ccc-9ee6-6cabb98b54f9"
      },
      "cell_type": "code",
      "source": [
        "# sum of all the contribution amounts\n",
        "cand_amount = donor_df.groupby('cand_nm')['contb_receipt_amt'].sum()\n",
        "\n",
        "# index tracker\n",
        "i = 0\n",
        "\n",
        "for don in cand_amount:\n",
        "    print(\"The candidate %s raised %.0f dollars \" %(cand_amount.index[i], don))\n",
        "    i += 1\n",
        "    \n",
        "cand_amount.plot(kind='bar', figsize=(12,6))"
      ],
      "execution_count": 35,
      "outputs": [
        {
          "output_type": "stream",
          "text": [
            "The candidate Bachmann, Michelle raised 2711439 dollars \n",
            "The candidate Cain, Herman raised 7101082 dollars \n",
            "The candidate Gingrich, Newt raised 12832770 dollars \n",
            "The candidate Huntsman, Jon raised 3330373 dollars \n",
            "The candidate Johnson, Gary Earl raised 566962 dollars \n",
            "The candidate McCotter, Thaddeus G raised 39030 dollars \n",
            "The candidate Obama, Barack raised 135877427 dollars \n",
            "The candidate Paul, Ron raised 21009620 dollars \n",
            "The candidate Pawlenty, Timothy raised 6004819 dollars \n",
            "The candidate Perry, Rick raised 20305754 dollars \n",
            "The candidate Roemer, Charles E. 'Buddy' III raised 373010 dollars \n",
            "The candidate Romney, Mitt raised 88335908 dollars \n",
            "The candidate Santorum, Rick raised 11043159 dollars \n"
          ],
          "name": "stdout"
        },
        {
          "output_type": "execute_result",
          "data": {
            "text/plain": [
              "<matplotlib.axes._subplots.AxesSubplot at 0x7f26fcd11a90>"
            ]
          },
          "metadata": {
            "tags": []
          },
          "execution_count": 35
        },
        {
          "output_type": "display_data",
          "data": {
            "image/png": "[encoded data removed]",
            "text/plain": [
              "<Figure size 864x432 with 1 Axes>"
            ]
          },
          "metadata": {
            "tags": []
          }
        }
      ]
    },
    {
      "metadata": {
        "id": "I_SCVPqaFGhA",
        "colab_type": "code",
        "colab": {
          "base_uri": "https://localhost:8080/",
          "height": 85
        },
        "outputId": "ab70b6eb-476e-45a8-e2e8-1786ce165064"
      },
      "cell_type": "code",
      "source": [
        "donor_df.groupby('Party')['contb_receipt_amt'].sum()"
      ],
      "execution_count": 36,
      "outputs": [
        {
          "output_type": "execute_result",
          "data": {
            "text/plain": [
              "Party\n",
              "Democrat      1.358774e+08\n",
              "Republican    1.736539e+08\n",
              "Name: contb_receipt_amt, dtype: float64"
            ]
          },
          "metadata": {
            "tags": []
          },
          "execution_count": 36
        }
      ]
    },
    {
      "metadata": {
        "id": "YXutaCzuFIoj",
        "colab_type": "code",
        "colab": {
          "base_uri": "https://localhost:8080/",
          "height": 429
        },
        "outputId": "d04a8bae-2c75-44cb-ca25-e4b4cf8cf958"
      },
      "cell_type": "code",
      "source": [
        "donor_df.groupby('Party')['contb_receipt_amt'].sum().plot(kind='bar')"
      ],
      "execution_count": 37,
      "outputs": [
        {
          "output_type": "execute_result",
          "data": {
            "text/plain": [
              "<matplotlib.axes._subplots.AxesSubplot at 0x7f26fcd111d0>"
            ]
          },
          "metadata": {
            "tags": []
          },
          "execution_count": 37
        },
        {
          "output_type": "display_data",
          "data": {
            "image/png": "[encoded data removed]",
            "text/plain": [
              "<Figure size 576x396 with 1 Axes>"
            ]
          },
          "metadata": {
            "tags": []
          }
        }
      ]
    },
    {
      "metadata": {
        "id": "hg0ligMsFTcV",
        "colab_type": "text"
      },
      "cell_type": "markdown",
      "source": [
        "Looks like Obama couldn't compete against all the republicans, but he certainly has the advantage of their funding being splintered across multiple candidates.\n",
        "\n",
        "Finally to start closing out the project, let's look at donations and who they came from (as far as occupation is concerned). We will start by grabing the occupation information from the dono_df DataFrame and then using pivot_table to make the index defined by the various occupations and then have the columns defined by the Party (Republican or Democrat). FInally we'll also pass an aggregation function in the pivot table, in this case a simple sum function will add up all the contributions by anyone with the same profession."
      ]
    },
    {
      "metadata": {
        "id": "sup6RlKWFJJl",
        "colab_type": "code",
        "colab": {
          "base_uri": "https://localhost:8080/",
          "height": 235
        },
        "outputId": "a1ab91c8-2eec-49f2-9fcf-89e95bf72851"
      },
      "cell_type": "code",
      "source": [
        "# use a pivot table to extract and organize the data by the donor occupation\n",
        "occupation_df = donor_df.pivot_table('contb_receipt_amt',\n",
        "                                      index='contbr_occupation',\n",
        "                                      columns='Party', aggfunc='sum')\n",
        "occupation_df.head(5)"
      ],
      "execution_count": 38,
      "outputs": [
        {
          "output_type": "execute_result",
          "data": {
            "text/html": [
              "<div>\n",
              "<style scoped>\n",
              "    .dataframe tbody tr th:only-of-type {\n",
              "        vertical-align: middle;\n",
              "    }\n",
              "\n",
              "    .dataframe tbody tr th {\n",
              "        vertical-align: top;\n",
              "    }\n",
              "\n",
              "    .dataframe thead th {\n",
              "        text-align: right;\n",
              "    }\n",
              "</style>\n",
              "<table border=\"1\" class=\"dataframe\">\n",
              "  <thead>\n",
              "    <tr style=\"text-align: right;\">\n",
              "      <th>Party</th>\n",
              "      <th>Democrat</th>\n",
              "      <th>Republican</th>\n",
              "    </tr>\n",
              "    <tr>\n",
              "      <th>contbr_occupation</th>\n",
              "      <th></th>\n",
              "      <th></th>\n",
              "    </tr>\n",
              "  </thead>\n",
              "  <tbody>\n",
              "    <tr>\n",
              "      <th>MIXED-MEDIA ARTIST / STORYTELLER</th>\n",
              "      <td>100.0</td>\n",
              "      <td>NaN</td>\n",
              "    </tr>\n",
              "    <tr>\n",
              "      <th>AREA VICE PRESIDENT</th>\n",
              "      <td>250.0</td>\n",
              "      <td>NaN</td>\n",
              "    </tr>\n",
              "    <tr>\n",
              "      <th>RESEARCH ASSOCIATE</th>\n",
              "      <td>100.0</td>\n",
              "      <td>NaN</td>\n",
              "    </tr>\n",
              "    <tr>\n",
              "      <th>TEACHER</th>\n",
              "      <td>500.0</td>\n",
              "      <td>NaN</td>\n",
              "    </tr>\n",
              "    <tr>\n",
              "      <th>THERAPIST</th>\n",
              "      <td>3900.0</td>\n",
              "      <td>NaN</td>\n",
              "    </tr>\n",
              "  </tbody>\n",
              "</table>\n",
              "</div>"
            ],
            "text/plain": [
              "Party                                Democrat  Republican\n",
              "contbr_occupation                                        \n",
              "   MIXED-MEDIA ARTIST / STORYTELLER     100.0         NaN\n",
              " AREA VICE PRESIDENT                    250.0         NaN\n",
              " RESEARCH ASSOCIATE                     100.0         NaN\n",
              " TEACHER                                500.0         NaN\n",
              " THERAPIST                             3900.0         NaN"
            ]
          },
          "metadata": {
            "tags": []
          },
          "execution_count": 38
        }
      ]
    },
    {
      "metadata": {
        "id": "RXztMy5ZFY9o",
        "colab_type": "code",
        "colab": {
          "base_uri": "https://localhost:8080/",
          "height": 34
        },
        "outputId": "a13d54fa-5e43-4d8a-aac8-ffb17b7fc49c"
      },
      "cell_type": "code",
      "source": [
        "occupation_df.shape"
      ],
      "execution_count": 39,
      "outputs": [
        {
          "output_type": "execute_result",
          "data": {
            "text/plain": [
              "(45067, 2)"
            ]
          },
          "metadata": {
            "tags": []
          },
          "execution_count": 39
        }
      ]
    },
    {
      "metadata": {
        "id": "dzaq0-C4FgR5",
        "colab_type": "text"
      },
      "cell_type": "markdown",
      "source": [
        "There is over 45000 reported different occupations between all the donors. This is probably far too large to display effectively with a small, static visualization. What we should do is have a cut-off for total contribution amounts. Afterall, small donations of 20 dollars by one type of occupation won't give us too much insight. So let's set our cut off at 1 million dollars."
      ]
    },
    {
      "metadata": {
        "id": "VruSa8etFZcj",
        "colab_type": "code",
        "colab": {
          "base_uri": "https://localhost:8080/",
          "height": 235
        },
        "outputId": "00e3e53c-d076-40c9-f620-3eff62312ec8"
      },
      "cell_type": "code",
      "source": [
        "occupation_df.tail(5)"
      ],
      "execution_count": 40,
      "outputs": [
        {
          "output_type": "execute_result",
          "data": {
            "text/html": [
              "<div>\n",
              "<style scoped>\n",
              "    .dataframe tbody tr th:only-of-type {\n",
              "        vertical-align: middle;\n",
              "    }\n",
              "\n",
              "    .dataframe tbody tr th {\n",
              "        vertical-align: top;\n",
              "    }\n",
              "\n",
              "    .dataframe thead th {\n",
              "        text-align: right;\n",
              "    }\n",
              "</style>\n",
              "<table border=\"1\" class=\"dataframe\">\n",
              "  <thead>\n",
              "    <tr style=\"text-align: right;\">\n",
              "      <th>Party</th>\n",
              "      <th>Democrat</th>\n",
              "      <th>Republican</th>\n",
              "    </tr>\n",
              "    <tr>\n",
              "      <th>contbr_occupation</th>\n",
              "      <th></th>\n",
              "      <th></th>\n",
              "    </tr>\n",
              "  </thead>\n",
              "  <tbody>\n",
              "    <tr>\n",
              "      <th>ZOOKEEPER</th>\n",
              "      <td>35.0</td>\n",
              "      <td>NaN</td>\n",
              "    </tr>\n",
              "    <tr>\n",
              "      <th>ZOOLOGIST</th>\n",
              "      <td>400.0</td>\n",
              "      <td>NaN</td>\n",
              "    </tr>\n",
              "    <tr>\n",
              "      <th>ZOOLOGY EDUCATION</th>\n",
              "      <td>25.0</td>\n",
              "      <td>NaN</td>\n",
              "    </tr>\n",
              "    <tr>\n",
              "      <th>\\NONE\\</th>\n",
              "      <td>NaN</td>\n",
              "      <td>250.0</td>\n",
              "    </tr>\n",
              "    <tr>\n",
              "      <th>~</th>\n",
              "      <td>NaN</td>\n",
              "      <td>75.0</td>\n",
              "    </tr>\n",
              "  </tbody>\n",
              "</table>\n",
              "</div>"
            ],
            "text/plain": [
              "Party              Democrat  Republican\n",
              "contbr_occupation                      \n",
              "ZOOKEEPER              35.0         NaN\n",
              "ZOOLOGIST             400.0         NaN\n",
              "ZOOLOGY EDUCATION      25.0         NaN\n",
              "\\NONE\\                  NaN       250.0\n",
              "~                       NaN        75.0"
            ]
          },
          "metadata": {
            "tags": []
          },
          "execution_count": 40
        }
      ]
    },
    {
      "metadata": {
        "id": "HJWE8CZDFmOj",
        "colab_type": "text"
      },
      "cell_type": "markdown",
      "source": [
        "Since after all, a 35$ contribution by the zoo keeper isn't gonna have a big effect in the large scope of the campaign. So, we are gonna set a cut-off point at 1 milllion dollars of sum contributions."
      ]
    },
    {
      "metadata": {
        "id": "U-N9unbOFnh3",
        "colab_type": "code",
        "colab": {
          "base_uri": "https://localhost:8080/",
          "height": 34
        },
        "outputId": "f643ff1f-f41b-4dc0-ee5e-dc01518ce920"
      },
      "cell_type": "code",
      "source": [
        "occupation_df = occupation_df[occupation_df.sum(1) > 1000000]\n",
        "occupation_df.shape"
      ],
      "execution_count": 41,
      "outputs": [
        {
          "output_type": "execute_result",
          "data": {
            "text/plain": [
              "(31, 2)"
            ]
          },
          "metadata": {
            "tags": []
          },
          "execution_count": 41
        }
      ]
    },
    {
      "metadata": {
        "id": "b7z98Z3YFn_t",
        "colab_type": "code",
        "colab": {
          "base_uri": "https://localhost:8080/",
          "height": 730
        },
        "outputId": "6acd74b5-f1d9-4dbd-aacc-d9098412b3cb"
      },
      "cell_type": "code",
      "source": [
        "# cmap -> colormap\n",
        "# barh -> horizontal plot\n",
        "occupation_df.plot(kind='barh', figsize=(7,12), cmap='copper')"
      ],
      "execution_count": 42,
      "outputs": [
        {
          "output_type": "execute_result",
          "data": {
            "text/plain": [
              "<matplotlib.axes._subplots.AxesSubplot at 0x7f26fcc06550>"
            ]
          },
          "metadata": {
            "tags": []
          },
          "execution_count": 42
        },
        {
          "output_type": "display_data",
          "data": {
            "image/png": "[encoded data removed]",
            "text/plain": [
              "<Figure size 504x864 with 1 Axes>"
            ]
          },
          "metadata": {
            "tags": []
          }
        }
      ]
    },
    {
      "metadata": {
        "id": "xEpZzexrF6mM",
        "colab_type": "text"
      },
      "cell_type": "markdown",
      "source": [
        "Looks like there are some occupations that are either mislabeled or aren't really occupations. Let's get rid of: Information Requested occupations and let's combine CEO and C.E.O."
      ]
    },
    {
      "metadata": {
        "id": "_xwcnLMWF7qm",
        "colab_type": "code",
        "colab": {
          "base_uri": "https://localhost:8080/",
          "height": 730
        },
        "outputId": "4cfc1a65-80b3-4a32-d922-045fe87af30c"
      },
      "cell_type": "code",
      "source": [
        "# drop the unavailble occupations\n",
        "occupation_df.drop(['INFORMATION REQUESTED PER BEST EFFORTS','INFORMATION REQUESTED'], axis=0, inplace=True)\n",
        "\n",
        "# sets new ceo row as sum of the current two\n",
        "occupation_df.loc['CEO'] = occupation_df.loc['CEO'] + occupation_df.loc['C.E.O.']\n",
        "occupation_df.drop('C.E.O.', inplace=True)\n",
        "\n",
        "occupation_df.plot(kind='barh', figsize=(7,12), cmap='copper')"
      ],
      "execution_count": 43,
      "outputs": [
        {
          "output_type": "execute_result",
          "data": {
            "text/plain": [
              "<matplotlib.axes._subplots.AxesSubplot at 0x7f26fcabd400>"
            ]
          },
          "metadata": {
            "tags": []
          },
          "execution_count": 43
        },
        {
          "output_type": "display_data",
          "data": {
            "image/png": "[encoded data removed]",
            "text/plain": [
              "<Figure size 504x864 with 1 Axes>"
            ]
          },
          "metadata": {
            "tags": []
          }
        }
      ]
    },
    {
      "metadata": {
        "id": "bW3dI-exGMIB",
        "colab_type": "text"
      },
      "cell_type": "markdown",
      "source": [
        "Looks like CEOs are a little more conservative leaning, this may be due to the tax philosophies of each party during the election."
      ]
    }
  ]
}